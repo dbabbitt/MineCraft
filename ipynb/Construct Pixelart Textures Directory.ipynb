{
 "cells": [
  {
   "cell_type": "code",
   "execution_count": null,
   "id": "650f4228-1b00-4e2a-b61b-bb5a26ee2203",
   "metadata": {},
   "outputs": [],
   "source": []
  },
  {
   "cell_type": "code",
   "execution_count": 1,
   "id": "58b9b490-049d-41e7-89ca-a0b85f943d31",
   "metadata": {},
   "outputs": [
    {
     "name": "stdout",
     "output_type": "stream",
     "text": [
      "['par.average_dict', 'par.blocks_list', 'par.collate', 'par.color_distance_from', 'par.concrete_and_unglazed_terracotta_list', 'par.concrete_list', 'par.conjunctify_nouns', 'par.convert_minecraft_coords_to_gimp_coords', 'par.convert_minecraft_coords_to_rowcols', 'par.convert_rowcols_to_minecraft_coords', 'par.display_next_minimap', 'par.distance', 'par.dominant_dict', 'par.get_block_name', 'par.get_circle_html', 'par.get_circular_edge_set', 'par.get_column_markup', 'par.get_dictionaries', 'par.get_file_names_dataframe', 'par.get_filename', 'par.get_hex_str', 'par.get_image_html_by_section', 'par.get_it_markup', 'par.get_it_markup_by_groups', 'par.get_map_center', 'par.get_multiples', 'par.get_next_file_names_dataframe', 'par.get_next_recipe', 'par.get_row_markup', 'par.get_rowspan_markup', 'par.get_section_file_path', 'par.get_stack_collation', 'par.get_stack_summary', 'par.get_text_color', 'par.get_text_html_by_section', 'par.glass_and_concrete_and_terracotta_list', 'par.glass_and_concrete_and_unglazed_terracotta_list', 'par.glass_and_concrete_list', 'par.glass_and_terracotta_list', 'par.glass_list', 'par.group_list', 'par.horizontal_offset', 'par.partition', 'par.pixel_to_filename', 'par.rgb_to_hex', 'par.s', 'par.show_art_recipe', 'par.show_columns_in_circle', 'par.stained_glass_list', 'par.surf_to_next_circle_html', 'par.surf_to_next_minimap', 'par.textures_dir', 'par.unpowdered_and_unglazed_list', 'par.vertical_offset', 'par.weighted_average_dict', 'par.wool_list']\n"
     ]
    }
   ],
   "source": [
    "\n",
    "import sys\n",
    "sys.path.insert(1, '../py')\n",
    "import pixel_art_recipes\n",
    "\n",
    "par = pixel_art_recipes.PixelArtRecipies()\n",
    "print(['par.{}'.format(fn) for fn in dir(par) if not fn.startswith('_')])"
   ]
  },
  {
   "cell_type": "code",
   "execution_count": 2,
   "id": "90542b6f-98ed-4a83-97d9-4230694726f7",
   "metadata": {},
   "outputs": [
    {
     "name": "stdout",
     "output_type": "stream",
     "text": [
      "Pickling to C:\\Users\\daveb\\OneDrive\\Documents\\GitHub\\MineCraft\\saves\\pkl\\AVERAGE_DICT.pkl\n",
      "Pickling to C:\\Users\\daveb\\OneDrive\\Documents\\GitHub\\MineCraft\\saves\\pkl\\DOMINANT_DICT.pkl\n",
      "Pickling to C:\\Users\\daveb\\OneDrive\\Documents\\GitHub\\MineCraft\\saves\\pkl\\WEIGHTED_AVERAGE_DICT.pkl\n"
     ]
    }
   ],
   "source": [
    "\n",
    "pixelart_textures_dir = '../data/pixelart_textures'\n",
    "par.textures_dir = pixelart_textures_dir\n",
    "par.average_dict, par.dominant_dict, par.weighted_average_dict = par.get_dictionaries(par.textures_dir, n_colors=5)\n",
    "par.s.store_objects(AVERAGE_DICT=par.average_dict, DOMINANT_DICT=par.dominant_dict, WEIGHTED_AVERAGE_DICT=par.weighted_average_dict)"
   ]
  },
  {
   "cell_type": "code",
   "execution_count": 2,
   "id": "d77fefe2-7ade-4b1b-8829-c79c029c75ca",
   "metadata": {},
   "outputs": [
    {
     "data": {
      "text/plain": [
       "(0, 0)"
      ]
     },
     "execution_count": 2,
     "metadata": {},
     "output_type": "execute_result"
    }
   ],
   "source": [
    "\n",
    "par.horizontal_offset = -504\n",
    "par.vertical_offset = 112\n",
    "par.convert_minecraft_coords_to_gimp_coords(-504, 112)"
   ]
  },
  {
   "cell_type": "code",
   "execution_count": 3,
   "id": "cd6b2193-9a99-41d8-b9ca-d696c8b191c9",
   "metadata": {},
   "outputs": [
    {
     "data": {
      "text/plain": [
       "(139, 89)"
      ]
     },
     "execution_count": 3,
     "metadata": {},
     "output_type": "execute_result"
    }
   ],
   "source": [
    "\n",
    "par.convert_minecraft_coords_to_gimp_coords(-365, 201)"
   ]
  },
  {
   "cell_type": "code",
   "execution_count": 5,
   "id": "ab14e8f7-2c0b-440c-b9e2-633b9ad21afa",
   "metadata": {},
   "outputs": [
    {
     "name": "stdout",
     "output_type": "stream",
     "text": [
      "../data/1.18.1_Default_Resource_Pack/assets/minecraft/textures/block\\nether_bricks.png: cannot reshape array of size 24 into shape (256,3)\n",
      "../data/1.15_Default_Resource_Pack/assets/minecraft/textures/block\\nether_bricks.png: cannot reshape array of size 24 into shape (256,3)\n",
      "../data/1.18.1_Default_Resource_Pack/assets/minecraft/textures/block\\purpur_pillar_top.png: cannot reshape array of size 21 into shape (256,3)\n",
      "../data/1.18.1_Default_Resource_Pack/assets/minecraft/textures/block\\redstone_block.png: cannot reshape array of size 18 into shape (256,3)\n",
      "../data/1.15_Default_Resource_Pack/assets/minecraft/textures/block\\redstone_block.png: cannot reshape array of size 18 into shape (256,3)\n"
     ]
    }
   ],
   "source": [
    "\n",
    "import os\n",
    "import shutil\n",
    "import imageio\n",
    "\n",
    "pixelart_textures_dir = '../data/pixelart_textures'\n",
    "os.makedirs(name=pixelart_textures_dir, exist_ok=True)\n",
    "backlit_textures_dir = '../data/backlit_textures'\n",
    "for file_name in os.listdir(backlit_textures_dir):\n",
    "    if file_name.endswith('.png'):\n",
    "        source_path = os.path.join(backlit_textures_dir, file_name)\n",
    "        destination_path = os.path.join(pixelart_textures_dir, file_name)\n",
    "        shutil.copy(source_path, destination_path)\n",
    "textures_dirs_list = [\n",
    "    '../data/1.18.1_Default_Resource_Pack/assets/minecraft/textures/block',\n",
    "    '../data/1.15_Default_Resource_Pack/assets/minecraft/textures/block',\n",
    "    '../data/1.12_Default_Resource_Pack/assets/minecraft/textures/blocks']\n",
    "for file_name in par.blocks_list:\n",
    "    for textures_dir in textures_dirs_list:\n",
    "        source_path = os.path.join(textures_dir, file_name)\n",
    "        if os.path.isfile(source_path):\n",
    "            try:\n",
    "                img_array = imageio.imread(source_path)[:, :, :3]\n",
    "                destination_path = os.path.join(pixelart_textures_dir, file_name)\n",
    "                shutil.copy(source_path, destination_path)\n",
    "                break\n",
    "            except ValueError as e:\n",
    "                print(f'{source_path}: {str(e).strip()}')"
   ]
  },
  {
   "cell_type": "code",
   "execution_count": 11,
   "id": "f571d047-e71f-4063-b740-5db0037c8379",
   "metadata": {},
   "outputs": [
    {
     "name": "stdout",
     "output_type": "stream",
     "text": [
      "nether_bricks.png (16, 16, 4)\n",
      "nether_bricks.png (16, 16)\n",
      "purpur_pillar_top.png (16, 16, 3)\n",
      "purpur_pillar_top.png (16, 16)\n",
      "redstone_block.png (16, 16, 4)\n",
      "redstone_block.png (16, 16)\n"
     ]
    }
   ],
   "source": [
    "\n",
    "from PIL import Image\n",
    "\n",
    "pixelart_textures_dir = '../data/pixelart_textures'\n",
    "for file_name in ['nether_bricks.png', 'purpur_pillar_top.png', 'redstone_block.png']:\n",
    "    file_path = os.path.join(pixelart_textures_dir, file_name)\n",
    "    if os.path.isfile(file_path):\n",
    "        try:\n",
    "            img_array = imageio.imread(file_path)\n",
    "            print(file_name, img_array.shape)\n",
    "        except ValueError as e:\n",
    "            print(f'{file_name}: {str(e).strip()}')\n",
    "        img_array = Image.open(file_path)\n",
    "        print(file_name, img_array.size)"
   ]
  },
  {
   "cell_type": "code",
   "execution_count": 12,
   "id": "186b99d0-ca5b-4b95-9119-16eddc0de0a3",
   "metadata": {},
   "outputs": [
    {
     "name": "stdout",
     "output_type": "stream",
     "text": [
      "['img_array.alpha_composite', 'img_array.close', 'img_array.convert', 'img_array.copy', 'img_array.crop', 'img_array.custom_mimetype', 'img_array.decoderconfig', 'img_array.decodermaxblock', 'img_array.default_image', 'img_array.draft', 'img_array.effect_spread', 'img_array.entropy', 'img_array.filename', 'img_array.filter', 'img_array.format', 'img_array.format_description', 'img_array.fp', 'img_array.frombytes', 'img_array.get_format_mimetype', 'img_array.getbands', 'img_array.getbbox', 'img_array.getchannel', 'img_array.getcolors', 'img_array.getdata', 'img_array.getexif', 'img_array.getextrema', 'img_array.getim', 'img_array.getpalette', 'img_array.getpixel', 'img_array.getprojection', 'img_array.getxmp', 'img_array.height', 'img_array.histogram', 'img_array.im', 'img_array.info', 'img_array.is_animated', 'img_array.load', 'img_array.load_end', 'img_array.load_prepare', 'img_array.load_read', 'img_array.mode', 'img_array.n_frames', 'img_array.palette', 'img_array.paste', 'img_array.png', 'img_array.point', 'img_array.private_chunks', 'img_array.putalpha', 'img_array.putdata', 'img_array.putpalette', 'img_array.putpixel', 'img_array.pyaccess', 'img_array.quantize', 'img_array.readonly', 'img_array.reduce', 'img_array.remap_palette', 'img_array.resize', 'img_array.rotate', 'img_array.save', 'img_array.seek', 'img_array.show', 'img_array.size', 'img_array.split', 'img_array.tell', 'img_array.text', 'img_array.thumbnail', 'img_array.tile', 'img_array.tobitmap', 'img_array.tobytes', 'img_array.toqimage', 'img_array.toqpixmap', 'img_array.transform', 'img_array.transpose', 'img_array.verify', 'img_array.width']\n"
     ]
    }
   ],
   "source": [
    "\n",
    "print(['img_array.{}'.format(fn) for fn in dir(img_array) if not fn.startswith('_')])"
   ]
  },
  {
   "cell_type": "code",
   "execution_count": 14,
   "id": "ee41de6a-8a3f-4ed6-8f6d-ccc1b35928dc",
   "metadata": {},
   "outputs": [
    {
     "data": {
      "text/plain": [
       "(76, 239, 22)"
      ]
     },
     "execution_count": 14,
     "metadata": {},
     "output_type": "execute_result"
    }
   ],
   "source": [
    "\n",
    "import numpy as np\n",
    "from PIL import Image\n",
    "\n",
    "art_file_path = '../saves/png/baby_face_134x150.png'\n",
    "img_array = np.array(Image.open(art_file_path))\n",
    "tuple(img_array[0][0])"
   ]
  },
  {
   "cell_type": "code",
   "execution_count": null,
   "id": "9ea275e4-7d95-4e98-8bde-31408cdfeddb",
   "metadata": {},
   "outputs": [],
   "source": [
    "\n",
    "file_names_df = par.get_file_names_dataframe(art_file_path, rgb_dict=par.dominant_dict)\n",
    "par.show_art_recipe(art_file_path, rgb_dict=par.dominant_dict, blocks_list=None, block_names_df=file_names_df)"
   ]
  },
  {
   "cell_type": "code",
   "execution_count": 16,
   "id": "f622e07c-29d0-4649-b9ab-e1b0c540eca5",
   "metadata": {},
   "outputs": [
    {
     "name": "stdout",
     "output_type": "stream",
     "text": [
      "Pickling to C:\\Users\\daveb\\OneDrive\\Documents\\GitHub\\MineCraft\\saves\\pkl\\minecraft_blocks_list.pkl\n"
     ]
    }
   ],
   "source": [
    "\n",
    "%run ../load_magic/storage.py\n",
    "\n",
    "s = Storage()\n",
    "blocks_list = []\n",
    "for file_name in os.listdir(pixelart_textures_dir):\n",
    "    if file_name.endswith('.png'):\n",
    "        blocks_list.append(file_name)\n",
    "s.store_objects(minecraft_blocks_list=blocks_list)"
   ]
  },
  {
   "cell_type": "code",
   "execution_count": null,
   "id": "c8589438-6df2-4514-b47d-e1631e618366",
   "metadata": {},
   "outputs": [],
   "source": []
  }
 ],
 "metadata": {
  "kernelspec": {
   "display_name": "Python 3 (ipykernel)",
   "language": "python",
   "name": "python3"
  },
  "language_info": {
   "codemirror_mode": {
    "name": "ipython",
    "version": 3
   },
   "file_extension": ".py",
   "mimetype": "text/x-python",
   "name": "python",
   "nbconvert_exporter": "python",
   "pygments_lexer": "ipython3",
   "version": "3.9.7"
  }
 },
 "nbformat": 4,
 "nbformat_minor": 5
}
