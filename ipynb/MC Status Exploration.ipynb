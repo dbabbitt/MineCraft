{
 "cells": [
  {
   "cell_type": "code",
   "execution_count": 1,
   "id": "1916d1ac-e605-4e44-b6fa-8ef9211270f0",
   "metadata": {},
   "outputs": [],
   "source": [
    "\n",
    "%run ../py/scraping_utils.py\n",
    "from IPython.display import clear_output\n",
    "\n",
    "su = ScrapingUtilities()\n",
    "if not su.s.pickle_exists('connection_info_set'):\n",
    "    \n",
    "    # Spoof a browser and scrape it off the web\n",
    "    driver = su.get_driver('FireFox')\n",
    "    \n",
    "    # Go to MineCraft Server List website\n",
    "    page_url = 'https://minecraft-server-list.com/'\n",
    "    su.driver_get_url(driver, page_url)\n",
    "    \n",
    "    # Get server page URLs\n",
    "    connection_info_set = set()\n",
    "    server_list_xpath = '/html/body/div[2]/div/section[3]/div[2]/div[2]/table/tbody'\n",
    "    connection_info_xpath = '/html/body/div[3]/div/section/div[1]/span/h1'\n",
    "    web_element = su.get_web_element(driver, server_list_xpath)\n",
    "    FirefoxWebElements_list = web_element.find_elements_by_tag_name('a')\n",
    "    page_urls_list = [FirefoxWebElement_obj.get_attribute('href') for FirefoxWebElement_obj in FirefoxWebElements_list]\n",
    "    \n",
    "    # Get connection info list\n",
    "    for page_url in page_urls_list:\n",
    "\n",
    "        # Get server page\n",
    "        clear_output(wait=True)\n",
    "        su.driver_get_url(driver, page_url)\n",
    "\n",
    "        # Get connection info\n",
    "        web_element = su.get_web_element(driver, connection_info_xpath)\n",
    "        FirefoxWebElements_list = web_element.find_elements_by_tag_name('a')\n",
    "        connection_info = FirefoxWebElements_list[-1].text\n",
    "        connection_info_set.add(connection_info)\n",
    "    \n",
    "    driver.close()\n",
    "    \n",
    "    su.s.store_objects(connection_info_set=connection_info_set)\n",
    "else:\n",
    "    connection_info_set = su.s.load_object('connection_info_set')"
   ]
  },
  {
   "cell_type": "code",
   "execution_count": 8,
   "id": "da4ec862-59de-432f-88f2-738e9d191cc1",
   "metadata": {},
   "outputs": [
    {
     "name": "stdout",
     "output_type": "stream",
     "text": [
      "\n",
      "The mc.insanitycraft.net server has 37 players and replied in 93.936 ms\n",
      "*** mc.insanitycraft.net ping error: Server did not respond with any information! ***\n",
      "*** mc.insanitycraft.net query error: timed out ***\n",
      "\n",
      "The play.skyblock.net server has 146 players and replied in 22.326 ms\n",
      "*** play.skyblock.net ping error: Server did not respond with any information! ***\n",
      "*** play.skyblock.net query error: timed out ***\n",
      "\n",
      "*** play.applecraft.org status error: [Errno 11001] getaddrinfo failed ***\n",
      "*** play.applecraft.org ping error: [Errno 11001] getaddrinfo failed ***\n",
      "*** play.applecraft.org query error: [Errno 11001] getaddrinfo failed ***\n",
      "\n",
      "The pixel.mc-complex.com server has 929 players and replied in 25.766 ms\n",
      "*** pixel.mc-complex.com ping error: Server did not respond with any information! ***\n",
      "*** pixel.mc-complex.com query error: timed out ***\n",
      "\n",
      "The two.oneblockmc.com server has 454 players and replied in 22.351 ms\n",
      "*** two.oneblockmc.com ping error: timed out ***\n",
      "*** two.oneblockmc.com query error: timed out ***\n",
      "\n",
      "The mcsl.jartexnetwork.com server has 3552 players and replied in 100.492 ms\n",
      "*** mcsl.jartexnetwork.com ping error: Received invalid ping response packet. ***\n",
      "*** mcsl.jartexnetwork.com query error: timed out ***\n",
      "\n",
      "The purpleprison.org server has 1674 players and replied in 31.168 ms\n",
      "*** purpleprison.org ping error: Server did not respond with any information! ***\n",
      "*** purpleprison.org query error: timed out ***\n",
      "\n",
      "The mc.herobrine.org server has 4037 players and replied in 31.25 ms\n",
      "*** mc.herobrine.org ping error: timed out ***\n",
      "*** mc.herobrine.org query error: timed out ***\n",
      "\n",
      "The mcsl.tulipsurvival.com server has 181 players and replied in 21.732 ms\n",
      "*** mcsl.tulipsurvival.com ping error: timed out ***\n",
      "*** mcsl.tulipsurvival.com query error: timed out ***\n",
      "\n",
      "*** play.mcprison.com status error: [Errno 11001] getaddrinfo failed ***\n",
      "*** play.mcprison.com ping error: [Errno 11001] getaddrinfo failed ***\n",
      "*** play.mcprison.com query error: [Errno 11001] getaddrinfo failed ***\n",
      "\n",
      "The mcsl.archonhq.net server has 952 players and replied in 32.094 ms\n",
      "*** mcsl.archonhq.net ping error: timed out ***\n",
      "*** mcsl.archonhq.net query error: timed out ***\n",
      "\n",
      "The mc.streetrunner.dev server has 1 players and replied in 31.362 ms\n",
      "The mc.streetrunner.dev server replied in 22.23 ms\n",
      "*** mc.streetrunner.dev query error: timed out ***\n",
      "\n",
      "*** mcsl.pika-network.net status error: [Errno 11001] getaddrinfo failed ***\n",
      "*** mcsl.pika-network.net ping error: [Errno 11001] getaddrinfo failed ***\n",
      "*** mcsl.pika-network.net query error: [Errno 11001] getaddrinfo failed ***\n",
      "\n",
      "The mcsl.wildprison.net server has 286 players and replied in 100.468 ms\n",
      "*** mcsl.wildprison.net ping error: [WinError 10054] An existing connection was forcibly closed by the remote host ***\n",
      "*** mcsl.wildprison.net query error: timed out ***\n",
      "\n",
      "The play.ecc.eco server has 90 players and replied in 31.362 ms\n",
      "*** play.ecc.eco ping error: timed out ***\n",
      "*** play.ecc.eco query error: timed out ***\n",
      "\n",
      "The play.dogecraft.net server has 30 players and replied in 88.681 ms\n",
      "*** play.dogecraft.net ping error: Server did not respond with any information! ***\n",
      "The play.dogecraft.net server has the following players online: kullinlipitys69, Hwinu, RTD3, VietnameeGuy, PBRunny, BasicallyPumpkin, coopkonsum_, BluB3ry, Jay101330, Pikawars, Levi_The_Rat, clixter, wildfullpuppy1, tofikissa, Alagander, Caidenbear, Sutekh1, BaccafyiedPvP, communistdacat, Electric_Panda17, JumaTrash, Cerberus13007, iKQDv2, Soupsessss, NattyBLOCK, Vyperrr_, solsquinox, WarreWLS, angrywolf_1, and MelonLord26\n",
      "\n",
      "The play.ml-mc.com server has 17 players and replied in 31.299 ms\n",
      "*** play.ml-mc.com ping error: Server did not respond with any information! ***\n",
      "*** play.ml-mc.com query error: timed out ***\n",
      "\n",
      "The play.pixelmonrealms.com server has 402 players and replied in 27.358 ms\n",
      "*** play.pixelmonrealms.com ping error: Server did not respond with any information! ***\n",
      "*** play.pixelmonrealms.com query error: timed out ***\n",
      "\n",
      "The play.pokesaga.org server has 464 players and replied in 31.605 ms\n",
      "*** play.pokesaga.org ping error: Server did not respond with any information! ***\n",
      "*** play.pokesaga.org query error: timed out ***\n",
      "\n",
      "The us.royalrealms.net server has 14 players and replied in 17.195 ms\n",
      "*** us.royalrealms.net ping error: Received invalid ping response packet. ***\n",
      "*** us.royalrealms.net query error: timed out ***\n",
      "\n",
      "The play.cubecraft.net server has 2591 players and replied in 31.289 ms\n",
      "*** play.cubecraft.net ping error: Server did not respond with any information! ***\n",
      "*** play.cubecraft.net query error: timed out ***\n",
      "\n",
      "The hub.blazedmc.net server has 9 players and replied in 31.249 ms\n",
      "*** hub.blazedmc.net ping error: Server did not respond with any information! ***\n",
      "*** hub.blazedmc.net query error: timed out ***\n",
      "\n",
      "*** skyblocky.com status error: timed out ***\n",
      "*** skyblocky.com ping error: timed out ***\n",
      "*** skyblocky.com query error: timed out ***\n",
      "\n",
      "The grmpixelmon.com server has 30 players and replied in 53.484 ms\n",
      "The grmpixelmon.com server replied in 54.39 ms\n",
      "*** grmpixelmon.com query error: timed out ***\n",
      "\n",
      "The mccentral.org server has 1264 players and replied in 31.301 ms\n",
      "*** mccentral.org ping error: Server did not respond with any information! ***\n",
      "*** mccentral.org query error: timed out ***\n"
     ]
    }
   ],
   "source": [
    "\n",
    "%run ../load_magic/lists.py\n",
    "from mcstatus import MinecraftServer\n",
    "import socket\n",
    "\n",
    "for host_str in connection_info_set:\n",
    "    print()\n",
    "    java_server_obj = MinecraftServer(host_str)\n",
    "    try:\n",
    "        status = java_server_obj.status()\n",
    "        print(f'The {host_str} server has {status.players.online} players and replied in {status.latency} ms')\n",
    "    except socket.error as e:\n",
    "        print(f'*** {host_str} status error: {str(e).strip()} ***')\n",
    "    try:\n",
    "        latency = java_server_obj.ping()\n",
    "        print(f'The {host_str} server replied in {latency} ms')\n",
    "    except socket.error as e:\n",
    "        print(f'*** {host_str} ping error: {str(e).strip()} ***')\n",
    "    try:\n",
    "        query = java_server_obj.query()\n",
    "        print(f'The {host_str} server has the following players online: {conjunctify_nouns(query.players.names)}')\n",
    "    except socket.error as e:\n",
    "        print(f'*** {host_str} query error: {str(e).strip()} ***')"
   ]
  },
  {
   "cell_type": "code",
   "execution_count": 12,
   "id": "b53efa06-0f5b-4b0f-a1c1-c5a824fb6776",
   "metadata": {},
   "outputs": [
    {
     "data": {
      "text/plain": [
       "(28, 100, None)"
      ]
     },
     "execution_count": 12,
     "metadata": {},
     "output_type": "execute_result"
    }
   ],
   "source": [
    "\n",
    "host_str = 'play.dogecraft.net'\n",
    "java_server_obj = MinecraftServer(host_str)\n",
    "status = java_server_obj.status()\n",
    "Version_obj = status.version\n",
    "# Version_obj.protocol, Version_obj.name\n",
    "Players_obj = status.players\n",
    "Players_obj.online, Players_obj.max, Players_obj.sample"
   ]
  },
  {
   "cell_type": "markdown",
   "id": "9659dda1-893b-48ef-a262-84a6e012eeea",
   "metadata": {},
   "source": [
    "\n",
    "----"
   ]
  },
  {
   "cell_type": "code",
   "execution_count": 1,
   "id": "3b688cb1-64ee-4bb3-b410-d3c56df3a104",
   "metadata": {},
   "outputs": [],
   "source": [
    "\n",
    "# If you know the host and port, you may skip this and use MinecraftServer('example.org', 1234)\n",
    "server = MinecraftServer.lookup('play.ecc.eco:25565')"
   ]
  },
  {
   "cell_type": "code",
   "execution_count": 2,
   "id": "b582f33e-61d7-4d61-87c9-74c6b7f77dd3",
   "metadata": {},
   "outputs": [
    {
     "name": "stdout",
     "output_type": "stream",
     "text": [
      "The server has 117 players and replied in 30.92 ms\n"
     ]
    }
   ],
   "source": [
    "\n",
    "# 'status' is supported by all Minecraft servers that are version 1.7 or higher.\n",
    "status = server.status()\n",
    "print('The server has {0} players and replied in {1} ms'.format(status.players.online, status.latency))"
   ]
  },
  {
   "cell_type": "code",
   "execution_count": 3,
   "id": "ed0f60f8-9721-4849-b69f-55d7691ea76b",
   "metadata": {},
   "outputs": [
    {
     "ename": "timeout",
     "evalue": "timed out",
     "output_type": "error",
     "traceback": [
      "\u001b[1;31m---------------------------------------------------------------------------\u001b[0m",
      "\u001b[1;31mtimeout\u001b[0m                                   Traceback (most recent call last)",
      "\u001b[1;32m<ipython-input-3-6016ba6bef63>\u001b[0m in \u001b[0;36m<module>\u001b[1;34m\u001b[0m\n\u001b[0;32m      1\u001b[0m \u001b[1;31m# 'ping' is supported by all Minecraft servers that are version 1.7 or higher.\u001b[0m\u001b[1;33m\u001b[0m\u001b[1;33m\u001b[0m\u001b[1;33m\u001b[0m\u001b[0m\n\u001b[0;32m      2\u001b[0m \u001b[1;31m# It is included in a 'status' call, but is exposed separate if you do not require the additional info.\u001b[0m\u001b[1;33m\u001b[0m\u001b[1;33m\u001b[0m\u001b[1;33m\u001b[0m\u001b[0m\n\u001b[1;32m----> 3\u001b[1;33m \u001b[0mlatency\u001b[0m \u001b[1;33m=\u001b[0m \u001b[0mserver\u001b[0m\u001b[1;33m.\u001b[0m\u001b[0mping\u001b[0m\u001b[1;33m(\u001b[0m\u001b[1;33m)\u001b[0m\u001b[1;33m\u001b[0m\u001b[1;33m\u001b[0m\u001b[0m\n\u001b[0m\u001b[0;32m      4\u001b[0m \u001b[0mprint\u001b[0m\u001b[1;33m(\u001b[0m\u001b[1;34m'The server replied in {0} ms'\u001b[0m\u001b[1;33m.\u001b[0m\u001b[0mformat\u001b[0m\u001b[1;33m(\u001b[0m\u001b[0mlatency\u001b[0m\u001b[1;33m)\u001b[0m\u001b[1;33m)\u001b[0m\u001b[1;33m\u001b[0m\u001b[1;33m\u001b[0m\u001b[0m\n",
      "\u001b[1;32m~\\anaconda3\\lib\\site-packages\\mcstatus\\server.py\u001b[0m in \u001b[0;36mping\u001b[1;34m(self, tries, **kwargs)\u001b[0m\n\u001b[0;32m     69\u001b[0m                 \u001b[0mexception_to_raise_after_giving_up\u001b[0m \u001b[1;33m=\u001b[0m \u001b[0me\u001b[0m\u001b[1;33m\u001b[0m\u001b[1;33m\u001b[0m\u001b[0m\n\u001b[0;32m     70\u001b[0m         \u001b[1;32melse\u001b[0m\u001b[1;33m:\u001b[0m\u001b[1;33m\u001b[0m\u001b[1;33m\u001b[0m\u001b[0m\n\u001b[1;32m---> 71\u001b[1;33m             \u001b[1;32mraise\u001b[0m \u001b[0mexception_to_raise_after_giving_up\u001b[0m\u001b[1;33m\u001b[0m\u001b[1;33m\u001b[0m\u001b[0m\n\u001b[0m\u001b[0;32m     72\u001b[0m \u001b[1;33m\u001b[0m\u001b[0m\n\u001b[0;32m     73\u001b[0m     \u001b[1;32masync\u001b[0m \u001b[1;32mdef\u001b[0m \u001b[0masync_ping\u001b[0m\u001b[1;33m(\u001b[0m\u001b[0mself\u001b[0m\u001b[1;33m,\u001b[0m \u001b[0mtries\u001b[0m\u001b[1;33m:\u001b[0m \u001b[0mint\u001b[0m \u001b[1;33m=\u001b[0m \u001b[1;36m3\u001b[0m\u001b[1;33m,\u001b[0m \u001b[1;33m**\u001b[0m\u001b[0mkwargs\u001b[0m\u001b[1;33m)\u001b[0m \u001b[1;33m->\u001b[0m \u001b[0mfloat\u001b[0m\u001b[1;33m:\u001b[0m\u001b[1;33m\u001b[0m\u001b[1;33m\u001b[0m\u001b[0m\n",
      "\u001b[1;32m~\\anaconda3\\lib\\site-packages\\mcstatus\\server.py\u001b[0m in \u001b[0;36mping\u001b[1;34m(self, tries, **kwargs)\u001b[0m\n\u001b[0;32m     65\u001b[0m                 \u001b[0mpinger\u001b[0m \u001b[1;33m=\u001b[0m \u001b[0mServerPinger\u001b[0m\u001b[1;33m(\u001b[0m\u001b[0mconnection\u001b[0m\u001b[1;33m,\u001b[0m \u001b[0mhost\u001b[0m\u001b[1;33m=\u001b[0m\u001b[0mself\u001b[0m\u001b[1;33m.\u001b[0m\u001b[0mhost\u001b[0m\u001b[1;33m,\u001b[0m \u001b[0mport\u001b[0m\u001b[1;33m=\u001b[0m\u001b[0mself\u001b[0m\u001b[1;33m.\u001b[0m\u001b[0mport\u001b[0m\u001b[1;33m,\u001b[0m \u001b[1;33m**\u001b[0m\u001b[0mkwargs\u001b[0m\u001b[1;33m)\u001b[0m\u001b[1;33m\u001b[0m\u001b[1;33m\u001b[0m\u001b[0m\n\u001b[0;32m     66\u001b[0m                 \u001b[0mpinger\u001b[0m\u001b[1;33m.\u001b[0m\u001b[0mhandshake\u001b[0m\u001b[1;33m(\u001b[0m\u001b[1;33m)\u001b[0m\u001b[1;33m\u001b[0m\u001b[1;33m\u001b[0m\u001b[0m\n\u001b[1;32m---> 67\u001b[1;33m                 \u001b[1;32mreturn\u001b[0m \u001b[0mpinger\u001b[0m\u001b[1;33m.\u001b[0m\u001b[0mtest_ping\u001b[0m\u001b[1;33m(\u001b[0m\u001b[1;33m)\u001b[0m\u001b[1;33m\u001b[0m\u001b[1;33m\u001b[0m\u001b[0m\n\u001b[0m\u001b[0;32m     68\u001b[0m             \u001b[1;32mexcept\u001b[0m \u001b[0mException\u001b[0m \u001b[1;32mas\u001b[0m \u001b[0me\u001b[0m\u001b[1;33m:\u001b[0m\u001b[1;33m\u001b[0m\u001b[1;33m\u001b[0m\u001b[0m\n\u001b[0;32m     69\u001b[0m                 \u001b[0mexception_to_raise_after_giving_up\u001b[0m \u001b[1;33m=\u001b[0m \u001b[0me\u001b[0m\u001b[1;33m\u001b[0m\u001b[1;33m\u001b[0m\u001b[0m\n",
      "\u001b[1;32m~\\anaconda3\\lib\\site-packages\\mcstatus\\pinger.py\u001b[0m in \u001b[0;36mtest_ping\u001b[1;34m(self)\u001b[0m\n\u001b[0;32m     79\u001b[0m         \u001b[0mself\u001b[0m\u001b[1;33m.\u001b[0m\u001b[0mconnection\u001b[0m\u001b[1;33m.\u001b[0m\u001b[0mwrite_buffer\u001b[0m\u001b[1;33m(\u001b[0m\u001b[0mrequest\u001b[0m\u001b[1;33m)\u001b[0m\u001b[1;33m\u001b[0m\u001b[1;33m\u001b[0m\u001b[0m\n\u001b[0;32m     80\u001b[0m \u001b[1;33m\u001b[0m\u001b[0m\n\u001b[1;32m---> 81\u001b[1;33m         \u001b[0mresponse\u001b[0m \u001b[1;33m=\u001b[0m \u001b[0mself\u001b[0m\u001b[1;33m.\u001b[0m\u001b[0mconnection\u001b[0m\u001b[1;33m.\u001b[0m\u001b[0mread_buffer\u001b[0m\u001b[1;33m(\u001b[0m\u001b[1;33m)\u001b[0m\u001b[1;33m\u001b[0m\u001b[1;33m\u001b[0m\u001b[0m\n\u001b[0m\u001b[0;32m     82\u001b[0m         \u001b[0mreceived\u001b[0m \u001b[1;33m=\u001b[0m \u001b[0mdatetime\u001b[0m\u001b[1;33m.\u001b[0m\u001b[0mdatetime\u001b[0m\u001b[1;33m.\u001b[0m\u001b[0mnow\u001b[0m\u001b[1;33m(\u001b[0m\u001b[1;33m)\u001b[0m\u001b[1;33m\u001b[0m\u001b[1;33m\u001b[0m\u001b[0m\n\u001b[0;32m     83\u001b[0m         \u001b[1;32mif\u001b[0m \u001b[0mresponse\u001b[0m\u001b[1;33m.\u001b[0m\u001b[0mread_varint\u001b[0m\u001b[1;33m(\u001b[0m\u001b[1;33m)\u001b[0m \u001b[1;33m!=\u001b[0m \u001b[1;36m1\u001b[0m\u001b[1;33m:\u001b[0m\u001b[1;33m\u001b[0m\u001b[1;33m\u001b[0m\u001b[0m\n",
      "\u001b[1;32m~\\anaconda3\\lib\\site-packages\\mcstatus\\protocol\\connection.py\u001b[0m in \u001b[0;36mread_buffer\u001b[1;34m(self)\u001b[0m\n\u001b[0;32m    122\u001b[0m \u001b[1;33m\u001b[0m\u001b[0m\n\u001b[0;32m    123\u001b[0m     \u001b[1;32mdef\u001b[0m \u001b[0mread_buffer\u001b[0m\u001b[1;33m(\u001b[0m\u001b[0mself\u001b[0m\u001b[1;33m)\u001b[0m\u001b[1;33m:\u001b[0m\u001b[1;33m\u001b[0m\u001b[1;33m\u001b[0m\u001b[0m\n\u001b[1;32m--> 124\u001b[1;33m         \u001b[0mlength\u001b[0m \u001b[1;33m=\u001b[0m \u001b[0mself\u001b[0m\u001b[1;33m.\u001b[0m\u001b[0mread_varint\u001b[0m\u001b[1;33m(\u001b[0m\u001b[1;33m)\u001b[0m\u001b[1;33m\u001b[0m\u001b[1;33m\u001b[0m\u001b[0m\n\u001b[0m\u001b[0;32m    125\u001b[0m         \u001b[0mresult\u001b[0m \u001b[1;33m=\u001b[0m \u001b[0mConnection\u001b[0m\u001b[1;33m(\u001b[0m\u001b[1;33m)\u001b[0m\u001b[1;33m\u001b[0m\u001b[1;33m\u001b[0m\u001b[0m\n\u001b[0;32m    126\u001b[0m         \u001b[0mresult\u001b[0m\u001b[1;33m.\u001b[0m\u001b[0mreceive\u001b[0m\u001b[1;33m(\u001b[0m\u001b[0mself\u001b[0m\u001b[1;33m.\u001b[0m\u001b[0mread\u001b[0m\u001b[1;33m(\u001b[0m\u001b[0mlength\u001b[0m\u001b[1;33m)\u001b[0m\u001b[1;33m)\u001b[0m\u001b[1;33m\u001b[0m\u001b[1;33m\u001b[0m\u001b[0m\n",
      "\u001b[1;32m~\\anaconda3\\lib\\site-packages\\mcstatus\\protocol\\connection.py\u001b[0m in \u001b[0;36mread_varint\u001b[1;34m(self)\u001b[0m\n\u001b[0;32m     50\u001b[0m         \u001b[0mresult\u001b[0m \u001b[1;33m=\u001b[0m \u001b[1;36m0\u001b[0m\u001b[1;33m\u001b[0m\u001b[1;33m\u001b[0m\u001b[0m\n\u001b[0;32m     51\u001b[0m         \u001b[1;32mfor\u001b[0m \u001b[0mi\u001b[0m \u001b[1;32min\u001b[0m \u001b[0mrange\u001b[0m\u001b[1;33m(\u001b[0m\u001b[1;36m5\u001b[0m\u001b[1;33m)\u001b[0m\u001b[1;33m:\u001b[0m\u001b[1;33m\u001b[0m\u001b[1;33m\u001b[0m\u001b[0m\n\u001b[1;32m---> 52\u001b[1;33m             \u001b[0mpart\u001b[0m \u001b[1;33m=\u001b[0m \u001b[0mself\u001b[0m\u001b[1;33m.\u001b[0m\u001b[0mread\u001b[0m\u001b[1;33m(\u001b[0m\u001b[1;36m1\u001b[0m\u001b[1;33m)\u001b[0m\u001b[1;33m[\u001b[0m\u001b[1;36m0\u001b[0m\u001b[1;33m]\u001b[0m\u001b[1;33m\u001b[0m\u001b[1;33m\u001b[0m\u001b[0m\n\u001b[0m\u001b[0;32m     53\u001b[0m             \u001b[0mresult\u001b[0m \u001b[1;33m|=\u001b[0m \u001b[1;33m(\u001b[0m\u001b[0mpart\u001b[0m \u001b[1;33m&\u001b[0m \u001b[1;36m0x7F\u001b[0m\u001b[1;33m)\u001b[0m \u001b[1;33m<<\u001b[0m \u001b[1;36m7\u001b[0m \u001b[1;33m*\u001b[0m \u001b[0mi\u001b[0m\u001b[1;33m\u001b[0m\u001b[1;33m\u001b[0m\u001b[0m\n\u001b[0;32m     54\u001b[0m             \u001b[1;32mif\u001b[0m \u001b[1;32mnot\u001b[0m \u001b[0mpart\u001b[0m \u001b[1;33m&\u001b[0m \u001b[1;36m0x80\u001b[0m\u001b[1;33m:\u001b[0m\u001b[1;33m\u001b[0m\u001b[1;33m\u001b[0m\u001b[0m\n",
      "\u001b[1;32m~\\anaconda3\\lib\\site-packages\\mcstatus\\protocol\\connection.py\u001b[0m in \u001b[0;36mread\u001b[1;34m(self, length)\u001b[0m\n\u001b[0;32m    200\u001b[0m         \u001b[0mresult\u001b[0m \u001b[1;33m=\u001b[0m \u001b[0mbytearray\u001b[0m\u001b[1;33m(\u001b[0m\u001b[1;33m)\u001b[0m\u001b[1;33m\u001b[0m\u001b[1;33m\u001b[0m\u001b[0m\n\u001b[0;32m    201\u001b[0m         \u001b[1;32mwhile\u001b[0m \u001b[0mlen\u001b[0m\u001b[1;33m(\u001b[0m\u001b[0mresult\u001b[0m\u001b[1;33m)\u001b[0m \u001b[1;33m<\u001b[0m \u001b[0mlength\u001b[0m\u001b[1;33m:\u001b[0m\u001b[1;33m\u001b[0m\u001b[1;33m\u001b[0m\u001b[0m\n\u001b[1;32m--> 202\u001b[1;33m             \u001b[0mnew\u001b[0m \u001b[1;33m=\u001b[0m \u001b[0mself\u001b[0m\u001b[1;33m.\u001b[0m\u001b[0msocket\u001b[0m\u001b[1;33m.\u001b[0m\u001b[0mrecv\u001b[0m\u001b[1;33m(\u001b[0m\u001b[0mlength\u001b[0m \u001b[1;33m-\u001b[0m \u001b[0mlen\u001b[0m\u001b[1;33m(\u001b[0m\u001b[0mresult\u001b[0m\u001b[1;33m)\u001b[0m\u001b[1;33m)\u001b[0m\u001b[1;33m\u001b[0m\u001b[1;33m\u001b[0m\u001b[0m\n\u001b[0m\u001b[0;32m    203\u001b[0m             \u001b[1;32mif\u001b[0m \u001b[0mlen\u001b[0m\u001b[1;33m(\u001b[0m\u001b[0mnew\u001b[0m\u001b[1;33m)\u001b[0m \u001b[1;33m==\u001b[0m \u001b[1;36m0\u001b[0m\u001b[1;33m:\u001b[0m\u001b[1;33m\u001b[0m\u001b[1;33m\u001b[0m\u001b[0m\n\u001b[0;32m    204\u001b[0m                 \u001b[1;32mraise\u001b[0m \u001b[0mIOError\u001b[0m\u001b[1;33m(\u001b[0m\u001b[1;34m\"Server did not respond with any information!\"\u001b[0m\u001b[1;33m)\u001b[0m\u001b[1;33m\u001b[0m\u001b[1;33m\u001b[0m\u001b[0m\n",
      "\u001b[1;31mtimeout\u001b[0m: timed out"
     ]
    }
   ],
   "source": [
    "\n",
    "# 'ping' is supported by all Minecraft servers that are version 1.7 or higher.\n",
    "# It is included in a 'status' call, but is exposed separate if you do not require the additional info.\n",
    "latency = server.ping()\n",
    "print('The server replied in {0} ms'.format(latency))"
   ]
  },
  {
   "cell_type": "code",
   "execution_count": 4,
   "id": "4b600779-7e9c-4022-87ac-c86e19803247",
   "metadata": {},
   "outputs": [
    {
     "ename": "timeout",
     "evalue": "timed out",
     "output_type": "error",
     "traceback": [
      "\u001b[1;31m---------------------------------------------------------------------------\u001b[0m",
      "\u001b[1;31mtimeout\u001b[0m                                   Traceback (most recent call last)",
      "\u001b[1;32m<ipython-input-4-db539d9fb9ed>\u001b[0m in \u001b[0;36m<module>\u001b[1;34m\u001b[0m\n\u001b[0;32m      1\u001b[0m \u001b[1;31m# 'query' has to be enabled in a servers' server.properties file.\u001b[0m\u001b[1;33m\u001b[0m\u001b[1;33m\u001b[0m\u001b[1;33m\u001b[0m\u001b[0m\n\u001b[0;32m      2\u001b[0m \u001b[1;31m# It may give more information than a ping, such as a full player list or mod information.\u001b[0m\u001b[1;33m\u001b[0m\u001b[1;33m\u001b[0m\u001b[1;33m\u001b[0m\u001b[0m\n\u001b[1;32m----> 3\u001b[1;33m \u001b[0mquery\u001b[0m \u001b[1;33m=\u001b[0m \u001b[0mserver\u001b[0m\u001b[1;33m.\u001b[0m\u001b[0mquery\u001b[0m\u001b[1;33m(\u001b[0m\u001b[1;33m)\u001b[0m\u001b[1;33m\u001b[0m\u001b[1;33m\u001b[0m\u001b[0m\n\u001b[0m\u001b[0;32m      4\u001b[0m \u001b[0mprint\u001b[0m\u001b[1;33m(\u001b[0m\u001b[1;34m'The server has the following players online: {0}'\u001b[0m\u001b[1;33m.\u001b[0m\u001b[0mformat\u001b[0m\u001b[1;33m(\u001b[0m\u001b[1;34m', '\u001b[0m\u001b[1;33m.\u001b[0m\u001b[0mjoin\u001b[0m\u001b[1;33m(\u001b[0m\u001b[0mquery\u001b[0m\u001b[1;33m.\u001b[0m\u001b[0mplayers\u001b[0m\u001b[1;33m.\u001b[0m\u001b[0mnames\u001b[0m\u001b[1;33m)\u001b[0m\u001b[1;33m)\u001b[0m\u001b[1;33m)\u001b[0m\u001b[1;33m\u001b[0m\u001b[1;33m\u001b[0m\u001b[0m\n",
      "\u001b[1;32m~\\anaconda3\\lib\\site-packages\\mcstatus\\server.py\u001b[0m in \u001b[0;36mquery\u001b[1;34m(self, tries)\u001b[0m\n\u001b[0;32m    168\u001b[0m                 \u001b[0mexception_to_raise_after_giving_up\u001b[0m \u001b[1;33m=\u001b[0m \u001b[0me\u001b[0m\u001b[1;33m\u001b[0m\u001b[1;33m\u001b[0m\u001b[0m\n\u001b[0;32m    169\u001b[0m         \u001b[1;32melse\u001b[0m\u001b[1;33m:\u001b[0m\u001b[1;33m\u001b[0m\u001b[1;33m\u001b[0m\u001b[0m\n\u001b[1;32m--> 170\u001b[1;33m             \u001b[1;32mraise\u001b[0m \u001b[0mexception_to_raise_after_giving_up\u001b[0m\u001b[1;33m\u001b[0m\u001b[1;33m\u001b[0m\u001b[0m\n\u001b[0m\u001b[0;32m    171\u001b[0m \u001b[1;33m\u001b[0m\u001b[0m\n\u001b[0;32m    172\u001b[0m     \u001b[1;32masync\u001b[0m \u001b[1;32mdef\u001b[0m \u001b[0masync_query\u001b[0m\u001b[1;33m(\u001b[0m\u001b[0mself\u001b[0m\u001b[1;33m,\u001b[0m \u001b[0mtries\u001b[0m\u001b[1;33m:\u001b[0m \u001b[0mint\u001b[0m \u001b[1;33m=\u001b[0m \u001b[1;36m3\u001b[0m\u001b[1;33m)\u001b[0m \u001b[1;33m->\u001b[0m \u001b[0mQueryResponse\u001b[0m\u001b[1;33m:\u001b[0m\u001b[1;33m\u001b[0m\u001b[1;33m\u001b[0m\u001b[0m\n",
      "\u001b[1;32m~\\anaconda3\\lib\\site-packages\\mcstatus\\server.py\u001b[0m in \u001b[0;36mquery\u001b[1;34m(self, tries)\u001b[0m\n\u001b[0;32m    163\u001b[0m                 \u001b[0mconnection\u001b[0m \u001b[1;33m=\u001b[0m \u001b[0mUDPSocketConnection\u001b[0m\u001b[1;33m(\u001b[0m\u001b[1;33m(\u001b[0m\u001b[0mhost\u001b[0m\u001b[1;33m,\u001b[0m \u001b[0mself\u001b[0m\u001b[1;33m.\u001b[0m\u001b[0mport\u001b[0m\u001b[1;33m)\u001b[0m\u001b[1;33m)\u001b[0m\u001b[1;33m\u001b[0m\u001b[1;33m\u001b[0m\u001b[0m\n\u001b[0;32m    164\u001b[0m                 \u001b[0mquerier\u001b[0m \u001b[1;33m=\u001b[0m \u001b[0mServerQuerier\u001b[0m\u001b[1;33m(\u001b[0m\u001b[0mconnection\u001b[0m\u001b[1;33m)\u001b[0m\u001b[1;33m\u001b[0m\u001b[1;33m\u001b[0m\u001b[0m\n\u001b[1;32m--> 165\u001b[1;33m                 \u001b[0mquerier\u001b[0m\u001b[1;33m.\u001b[0m\u001b[0mhandshake\u001b[0m\u001b[1;33m(\u001b[0m\u001b[1;33m)\u001b[0m\u001b[1;33m\u001b[0m\u001b[1;33m\u001b[0m\u001b[0m\n\u001b[0m\u001b[0;32m    166\u001b[0m                 \u001b[1;32mreturn\u001b[0m \u001b[0mquerier\u001b[0m\u001b[1;33m.\u001b[0m\u001b[0mread_query\u001b[0m\u001b[1;33m(\u001b[0m\u001b[1;33m)\u001b[0m\u001b[1;33m\u001b[0m\u001b[1;33m\u001b[0m\u001b[0m\n\u001b[0;32m    167\u001b[0m             \u001b[1;32mexcept\u001b[0m \u001b[0mException\u001b[0m \u001b[1;32mas\u001b[0m \u001b[0me\u001b[0m\u001b[1;33m:\u001b[0m\u001b[1;33m\u001b[0m\u001b[1;33m\u001b[0m\u001b[0m\n",
      "\u001b[1;32m~\\anaconda3\\lib\\site-packages\\mcstatus\\querier.py\u001b[0m in \u001b[0;36mhandshake\u001b[1;34m(self)\u001b[0m\n\u001b[0;32m     46\u001b[0m         \u001b[0mself\u001b[0m\u001b[1;33m.\u001b[0m\u001b[0mconnection\u001b[0m\u001b[1;33m.\u001b[0m\u001b[0mwrite\u001b[0m\u001b[1;33m(\u001b[0m\u001b[0mself\u001b[0m\u001b[1;33m.\u001b[0m\u001b[0m_create_handshake_packet\u001b[0m\u001b[1;33m(\u001b[0m\u001b[1;33m)\u001b[0m\u001b[1;33m)\u001b[0m\u001b[1;33m\u001b[0m\u001b[1;33m\u001b[0m\u001b[0m\n\u001b[0;32m     47\u001b[0m \u001b[1;33m\u001b[0m\u001b[0m\n\u001b[1;32m---> 48\u001b[1;33m         \u001b[0mpacket\u001b[0m \u001b[1;33m=\u001b[0m \u001b[0mself\u001b[0m\u001b[1;33m.\u001b[0m\u001b[0m_read_packet\u001b[0m\u001b[1;33m(\u001b[0m\u001b[1;33m)\u001b[0m\u001b[1;33m\u001b[0m\u001b[1;33m\u001b[0m\u001b[0m\n\u001b[0m\u001b[0;32m     49\u001b[0m         \u001b[0mself\u001b[0m\u001b[1;33m.\u001b[0m\u001b[0mchallenge\u001b[0m \u001b[1;33m=\u001b[0m \u001b[0mint\u001b[0m\u001b[1;33m(\u001b[0m\u001b[0mpacket\u001b[0m\u001b[1;33m.\u001b[0m\u001b[0mread_ascii\u001b[0m\u001b[1;33m(\u001b[0m\u001b[1;33m)\u001b[0m\u001b[1;33m)\u001b[0m\u001b[1;33m\u001b[0m\u001b[1;33m\u001b[0m\u001b[0m\n\u001b[0;32m     50\u001b[0m \u001b[1;33m\u001b[0m\u001b[0m\n",
      "\u001b[1;32m~\\anaconda3\\lib\\site-packages\\mcstatus\\querier.py\u001b[0m in \u001b[0;36m_read_packet\u001b[1;34m(self)\u001b[0m\n\u001b[0;32m     39\u001b[0m     \u001b[1;32mdef\u001b[0m \u001b[0m_read_packet\u001b[0m\u001b[1;33m(\u001b[0m\u001b[0mself\u001b[0m\u001b[1;33m)\u001b[0m\u001b[1;33m:\u001b[0m\u001b[1;33m\u001b[0m\u001b[1;33m\u001b[0m\u001b[0m\n\u001b[0;32m     40\u001b[0m         \u001b[0mpacket\u001b[0m \u001b[1;33m=\u001b[0m \u001b[0mConnection\u001b[0m\u001b[1;33m(\u001b[0m\u001b[1;33m)\u001b[0m\u001b[1;33m\u001b[0m\u001b[1;33m\u001b[0m\u001b[0m\n\u001b[1;32m---> 41\u001b[1;33m         \u001b[0mpacket\u001b[0m\u001b[1;33m.\u001b[0m\u001b[0mreceive\u001b[0m\u001b[1;33m(\u001b[0m\u001b[0mself\u001b[0m\u001b[1;33m.\u001b[0m\u001b[0mconnection\u001b[0m\u001b[1;33m.\u001b[0m\u001b[0mread\u001b[0m\u001b[1;33m(\u001b[0m\u001b[0mself\u001b[0m\u001b[1;33m.\u001b[0m\u001b[0mconnection\u001b[0m\u001b[1;33m.\u001b[0m\u001b[0mremaining\u001b[0m\u001b[1;33m(\u001b[0m\u001b[1;33m)\u001b[0m\u001b[1;33m)\u001b[0m\u001b[1;33m)\u001b[0m\u001b[1;33m\u001b[0m\u001b[1;33m\u001b[0m\u001b[0m\n\u001b[0m\u001b[0;32m     42\u001b[0m         \u001b[0mpacket\u001b[0m\u001b[1;33m.\u001b[0m\u001b[0mread\u001b[0m\u001b[1;33m(\u001b[0m\u001b[1;36m1\u001b[0m \u001b[1;33m+\u001b[0m \u001b[1;36m4\u001b[0m\u001b[1;33m)\u001b[0m\u001b[1;33m\u001b[0m\u001b[1;33m\u001b[0m\u001b[0m\n\u001b[0;32m     43\u001b[0m         \u001b[1;32mreturn\u001b[0m \u001b[0mpacket\u001b[0m\u001b[1;33m\u001b[0m\u001b[1;33m\u001b[0m\u001b[0m\n",
      "\u001b[1;32m~\\anaconda3\\lib\\site-packages\\mcstatus\\protocol\\connection.py\u001b[0m in \u001b[0;36mread\u001b[1;34m(self, length)\u001b[0m\n\u001b[0;32m    238\u001b[0m         \u001b[0mresult\u001b[0m \u001b[1;33m=\u001b[0m \u001b[0mbytearray\u001b[0m\u001b[1;33m(\u001b[0m\u001b[1;33m)\u001b[0m\u001b[1;33m\u001b[0m\u001b[1;33m\u001b[0m\u001b[0m\n\u001b[0;32m    239\u001b[0m         \u001b[1;32mwhile\u001b[0m \u001b[0mlen\u001b[0m\u001b[1;33m(\u001b[0m\u001b[0mresult\u001b[0m\u001b[1;33m)\u001b[0m \u001b[1;33m==\u001b[0m \u001b[1;36m0\u001b[0m\u001b[1;33m:\u001b[0m\u001b[1;33m\u001b[0m\u001b[1;33m\u001b[0m\u001b[0m\n\u001b[1;32m--> 240\u001b[1;33m             \u001b[0mresult\u001b[0m\u001b[1;33m.\u001b[0m\u001b[0mextend\u001b[0m\u001b[1;33m(\u001b[0m\u001b[0mself\u001b[0m\u001b[1;33m.\u001b[0m\u001b[0msocket\u001b[0m\u001b[1;33m.\u001b[0m\u001b[0mrecvfrom\u001b[0m\u001b[1;33m(\u001b[0m\u001b[0mself\u001b[0m\u001b[1;33m.\u001b[0m\u001b[0mremaining\u001b[0m\u001b[1;33m(\u001b[0m\u001b[1;33m)\u001b[0m\u001b[1;33m)\u001b[0m\u001b[1;33m[\u001b[0m\u001b[1;36m0\u001b[0m\u001b[1;33m]\u001b[0m\u001b[1;33m)\u001b[0m\u001b[1;33m\u001b[0m\u001b[1;33m\u001b[0m\u001b[0m\n\u001b[0m\u001b[0;32m    241\u001b[0m         \u001b[1;32mreturn\u001b[0m \u001b[0mresult\u001b[0m\u001b[1;33m\u001b[0m\u001b[1;33m\u001b[0m\u001b[0m\n\u001b[0;32m    242\u001b[0m \u001b[1;33m\u001b[0m\u001b[0m\n",
      "\u001b[1;31mtimeout\u001b[0m: timed out"
     ]
    }
   ],
   "source": [
    "\n",
    "# 'query' has to be enabled in a servers' server.properties file.\n",
    "# It may give more information than a ping, such as a full player list or mod information.\n",
    "query = server.query()\n",
    "print('The server has the following players online: {0}'.format(', '.join(query.players.names)))"
   ]
  },
  {
   "cell_type": "code",
   "execution_count": 5,
   "id": "e97ac22e-d416-425c-8849-c462dac4dbf6",
   "metadata": {},
   "outputs": [
    {
     "name": "stdout",
     "output_type": "stream",
     "text": [
      "['server.async_ping', 'server.async_query', 'server.async_status', 'server.host', 'server.lookup', 'server.ping', 'server.port', 'server.query', 'server.status']\n"
     ]
    }
   ],
   "source": [
    "\n",
    "print(['server.{}'.format(fn) for fn in dir(server) if not fn.startswith('_')])"
   ]
  },
  {
   "cell_type": "code",
   "execution_count": 7,
   "id": "048540bc-efbf-4fc1-867a-77195c80e7fb",
   "metadata": {},
   "outputs": [
    {
     "name": "stdout",
     "output_type": "stream",
     "text": [
      "['status.Players', 'status.Version', 'status.description', 'status.favicon', 'status.latency', 'status.players', 'status.raw', 'status.version']\n"
     ]
    }
   ],
   "source": [
    "\n",
    "print(['status.{}'.format(fn) for fn in dir(status) if not fn.startswith('_')])"
   ]
  },
  {
   "cell_type": "code",
   "execution_count": 20,
   "id": "0c7f282f-9bfa-41a5-8185-31b25af3d807",
   "metadata": {},
   "outputs": [
    {
     "name": "stdout",
     "output_type": "stream",
     "text": [
      "['Version_obj.name', 'Version_obj.protocol']\n"
     ]
    }
   ],
   "source": [
    "\n",
    "Version_obj = status.version\n",
    "print(['Version_obj.{}'.format(fn) for fn in dir(Version_obj) if not fn.startswith('_')])"
   ]
  },
  {
   "cell_type": "code",
   "execution_count": 24,
   "id": "aea86eb9-bca3-4837-9da0-edfe105a73e5",
   "metadata": {},
   "outputs": [
    {
     "data": {
      "text/plain": [
       "47"
      ]
     },
     "execution_count": 24,
     "metadata": {},
     "output_type": "execute_result"
    }
   ],
   "source": [
    "\n",
    "Version_obj.protocol"
   ]
  },
  {
   "cell_type": "code",
   "execution_count": 22,
   "id": "c7603a31-6d2f-4967-b22a-49ca88748b6d",
   "metadata": {},
   "outputs": [
    {
     "data": {
      "text/plain": [
       "'Waterfall 1.17.1'"
      ]
     },
     "execution_count": 22,
     "metadata": {},
     "output_type": "execute_result"
    }
   ],
   "source": [
    "\n",
    "Version_obj.name"
   ]
  },
  {
   "cell_type": "code",
   "execution_count": 17,
   "id": "f2a02175-b473-4285-8bc2-341d2b284be5",
   "metadata": {},
   "outputs": [
    {
     "name": "stdout",
     "output_type": "stream",
     "text": [
      "['Players_obj.Player', 'Players_obj.max', 'Players_obj.online', 'Players_obj.sample']\n"
     ]
    }
   ],
   "source": [
    "\n",
    "Players_obj = status.players\n",
    "print(['Players_obj.{}'.format(fn) for fn in dir(Players_obj) if not fn.startswith('_')])"
   ]
  },
  {
   "cell_type": "code",
   "execution_count": 28,
   "id": "7dbb95e2-3d57-483e-861e-00569ee66ff3",
   "metadata": {},
   "outputs": [
    {
     "data": {
      "text/plain": [
       "117"
      ]
     },
     "execution_count": 28,
     "metadata": {},
     "output_type": "execute_result"
    }
   ],
   "source": [
    "\n",
    "Players_obj.online"
   ]
  },
  {
   "cell_type": "code",
   "execution_count": 27,
   "id": "ccff112c-bef1-4003-bf69-c62bbef7a7fc",
   "metadata": {},
   "outputs": [
    {
     "data": {
      "text/plain": [
       "2000"
      ]
     },
     "execution_count": 27,
     "metadata": {},
     "output_type": "execute_result"
    }
   ],
   "source": [
    "\n",
    "Players_obj.max"
   ]
  },
  {
   "cell_type": "code",
   "execution_count": 31,
   "id": "ea90dae0-81e2-451f-8c8f-7207c373a59d",
   "metadata": {},
   "outputs": [
    {
     "name": "stdout",
     "output_type": "stream",
     "text": [
      "['Player_obj.id', 'Player_obj.name']\n"
     ]
    }
   ],
   "source": [
    "\n",
    "Player_obj = Players_obj.sample[0]\n",
    "print(['Player_obj.{}'.format(fn) for fn in dir(Player_obj) if not fn.startswith('_')])"
   ]
  },
  {
   "cell_type": "code",
   "execution_count": 32,
   "id": "641f24c1-9994-41df-9d67-81e87c1819cc",
   "metadata": {},
   "outputs": [
    {
     "data": {
      "text/plain": [
       "'00000000-0000-0000-0000-000000000000'"
      ]
     },
     "execution_count": 32,
     "metadata": {},
     "output_type": "execute_result"
    }
   ],
   "source": [
    "\n",
    "Player_obj.id"
   ]
  },
  {
   "cell_type": "code",
   "execution_count": 33,
   "id": "cac90b96-332e-43f0-92f7-e463e499d5be",
   "metadata": {},
   "outputs": [
    {
     "data": {
      "text/plain": [
       "'§aJoin now and play together with §6NCTBoys§a ...'"
      ]
     },
     "execution_count": 33,
     "metadata": {},
     "output_type": "execute_result"
    }
   ],
   "source": [
    "\n",
    "Player_obj.name"
   ]
  },
  {
   "cell_type": "markdown",
   "id": "f2214343-c191-4616-8f07-840f82f1720a",
   "metadata": {},
   "source": [
    "\n",
    "----"
   ]
  },
  {
   "cell_type": "code",
   "execution_count": 35,
   "id": "ed60af75-287e-4fdf-98d2-c78da300c696",
   "metadata": {},
   "outputs": [
    {
     "name": "stdout",
     "output_type": "stream",
     "text": [
      "HTTP Error 403: Forbidden\n"
     ]
    }
   ],
   "source": [
    "\n",
    "%run ../load_magic/soup.py\n",
    "from urllib.error import HTTPError\n",
    "\n",
    "try:\n",
    "    page_url = 'https://minecraft-server-list.com/server/7038/'\n",
    "    page_soup = get_page_soup(page_url)\n",
    "except HTTPError as e:\n",
    "    print(str(e).strip())"
   ]
  },
  {
   "cell_type": "code",
   "execution_count": 11,
   "id": "b9791f5c-41dc-48a3-aeb4-a098072acdc5",
   "metadata": {},
   "outputs": [
    {
     "data": {
      "text/plain": [
       "'<a href=\"//minecraft-server-list.com/server/461166/\" title=\"One Block MC Minecraft Server\">One Block MC</a>'"
      ]
     },
     "execution_count": 11,
     "metadata": {},
     "output_type": "execute_result"
    }
   ],
   "source": [
    "\n",
    "import random\n",
    "\n",
    "FirefoxWebElement_obj = random.choice(FirefoxWebElements_list)\n",
    "[f'FirefoxWebElement_obj.{fn}' for fn in dir(FirefoxWebElement_obj) if not fn.startswith('_')]\n",
    "FirefoxWebElement_obj.get_attribute('outerHTML')"
   ]
  },
  {
   "cell_type": "code",
   "execution_count": 2,
   "id": "8f4faa39-ef2e-4a35-bbbb-0a5912e1351a",
   "metadata": {},
   "outputs": [
    {
     "name": "stdout",
     "output_type": "stream",
     "text": [
      "HTTP Error 403: Forbidden\n"
     ]
    }
   ],
   "source": [
    "\n",
    "from urllib.error import HTTPError\n",
    "\n",
    "try:\n",
    "    page_soup = get_page_soup(page_url)\n",
    "except HTTPError as e:\n",
    "    print(str(e).strip())\n",
    "    file_path = '../data/html/minecraft_server_list.html'\n",
    "    page_soup = get_page_soup(file_path)"
   ]
  },
  {
   "cell_type": "code",
   "execution_count": 3,
   "id": "ca95ecbd-ba89-46a4-8368-c9f459b9deb7",
   "metadata": {},
   "outputs": [
    {
     "data": {
      "text/plain": [
       "[<a href=\"//minecraft-server-list.com/server/7038/\" title=\"EcoCityCraft Economy\"><img alt=\"EcoCityCraft Economy\" height=\"90\" src=\"//cdn.minecraft-server-list.com/serverlogo/7038.jpg\" width=\"680\"/></a>,\n",
       " <a href=\"//minecraft-server-list.com/server/7038/\" title=\"EcoCityCraft Economy Minecraft Server\">EcoCityCraft Economy</a>,\n",
       " <a href=\"//minecraft-server-list.com/server/380867/\" title=\"OPBlocks\"><img alt=\"OPBlocks\" height=\"90\" src=\"//cdn.minecraft-server-list.com/serverlogo/380867.jpg\" width=\"680\"/></a>,\n",
       " <a href=\"//minecraft-server-list.com/server/380867/\" title=\"OPBlocks Minecraft Server\">OPBlocks</a>,\n",
       " <a href=\"//minecraft-server-list.com/server/259891/\" title=\"GRM Pixelmon\"><img alt=\"GRM Pixelmon\" height=\"90\" src=\"//cdn.minecraft-server-list.com/serverlogo/259891.jpg\" width=\"680\"/></a>,\n",
       " <a href=\"//minecraft-server-list.com/server/259891/\" title=\"GRM Pixelmon Minecraft Server\">GRM Pixelmon</a>,\n",
       " <a href=\"//minecraft-server-list.com/server/250183/\" title=\"PURPLE PRISON\"><img alt=\"PURPLE PRISON\" height=\"90\" src=\"//cdn.minecraft-server-list.com/serverlogo/250183.jpg\" width=\"680\"/></a>,\n",
       " <a href=\"//minecraft-server-list.com/server/250183/\" title=\"PURPLE PRISON Minecraft Server\">PURPLE PRISON</a>,\n",
       " <a href=\"//minecraft-server-list.com/server/481521/\" title=\"RoyalRealms\"><img alt=\"RoyalRealms\" height=\"90\" src=\"//cdn.minecraft-server-list.com/serverlogo/481521.jpg\" width=\"680\"/></a>,\n",
       " <a href=\"//minecraft-server-list.com/server/481521/\" title=\"RoyalRealms Minecraft Server\">RoyalRealms</a>,\n",
       " <a href=\"//minecraft-server-list.com/server/52715/\" title=\"Medieval Lords\"><img alt=\"Medieval Lords\" height=\"90\" src=\"//cdn.minecraft-server-list.com/serverlogo/52715.jpg\" width=\"680\"/></a>,\n",
       " <a href=\"//minecraft-server-list.com/server/52715/\" title=\"Medieval Lords Minecraft Server\">Medieval Lords</a>,\n",
       " <a href=\"//minecraft-server-list.com/server/442408/\" title=\"WildPrison\"><img alt=\"WildPrison\" height=\"90\" src=\"//cdn.minecraft-server-list.com/serverlogo/442408.jpg\" width=\"680\"/></a>,\n",
       " <a href=\"//minecraft-server-list.com/server/442408/\" title=\"WildPrison Minecraft Server\">WildPrison</a>,\n",
       " <a href=\"//minecraft-server-list.com/server/437511/\" title=\"InsanityCraft\"><img alt=\"InsanityCraft\" height=\"90\" src=\"//cdn.minecraft-server-list.com/serverlogo/437511.jpg\" width=\"680\"/></a>,\n",
       " <a href=\"//minecraft-server-list.com/server/437511/\" title=\"InsanityCraft Minecraft Server\">InsanityCraft</a>,\n",
       " <a href=\"//minecraft-server-list.com/server/476698/\" title=\"StreetRunner\"><img alt=\"StreetRunner\" height=\"90\" src=\"//cdn.minecraft-server-list.com/serverlogo/476698.jpg\" width=\"680\"/></a>,\n",
       " <a href=\"//minecraft-server-list.com/server/476698/\" title=\"StreetRunner Minecraft Server\">StreetRunner</a>,\n",
       " <a href=\"//minecraft-server-list.com/server/471676/\" title=\"The Blazed Network\"><img alt=\"The Blazed Network\" height=\"90\" src=\"//cdn.minecraft-server-list.com/serverlogo/471676.jpg\" width=\"680\"/></a>,\n",
       " <a href=\"//minecraft-server-list.com/server/471676/\" title=\"The Blazed Network Minecraft Server\">The Blazed Network</a>,\n",
       " <a href=\"//minecraft-server-list.com/server/411920/\" title=\"Complex Gaming\"><img alt=\"Complex Gaming\" height=\"90\" src=\"//cdn.minecraft-server-list.com/serverlogo/411920.jpg\" width=\"680\"/></a>,\n",
       " <a href=\"//minecraft-server-list.com/server/411920/\" title=\"Complex Gaming Minecraft Server\">Complex Gaming</a>,\n",
       " <a href=\"//minecraft-server-list.com/server/453566/\" title=\"Herobrine\"><img alt=\"Herobrine\" height=\"90\" src=\"//cdn.minecraft-server-list.com/serverlogo/453566.jpg\" width=\"680\"/></a>,\n",
       " <a href=\"//minecraft-server-list.com/server/453566/\" title=\"Herobrine Minecraft Server\">Herobrine</a>,\n",
       " <a href=\"//minecraft-server-list.com/server/322140/\" title=\"Minecraft Central\"><img alt=\"Minecraft Central\" height=\"90\" src=\"//cdn.minecraft-server-list.com/serverlogo/322140.jpg\" width=\"680\"/></a>,\n",
       " <a href=\"//minecraft-server-list.com/server/322140/\" title=\"Minecraft Central Minecraft Server\">Minecraft Central</a>,\n",
       " <a href=\"//minecraft-server-list.com/server/471627/\" title=\"PokeSaga\"><img alt=\"PokeSaga\" height=\"90\" src=\"//cdn.minecraft-server-list.com/serverlogo/471627.jpg\" width=\"680\"/></a>,\n",
       " <a href=\"//minecraft-server-list.com/server/471627/\" title=\"PokeSaga Minecraft Server\">PokeSaga</a>,\n",
       " <a href=\"//minecraft-server-list.com/server/450129/\" title=\"TheArchon\"><img alt=\"TheArchon\" height=\"90\" src=\"//cdn.minecraft-server-list.com/serverlogo/450129.jpg\" width=\"680\"/></a>,\n",
       " <a href=\"//minecraft-server-list.com/server/450129/\" title=\"TheArchon Minecraft Server\">TheArchon</a>,\n",
       " <a href=\"//minecraft-server-list.com/server/381572/\" title=\"Pixelmon Realms\"><img alt=\"Pixelmon Realms\" height=\"90\" src=\"//cdn.minecraft-server-list.com/serverlogo/381572.jpg\" width=\"680\"/></a>,\n",
       " <a href=\"//minecraft-server-list.com/server/381572/\" title=\"Pixelmon Realms Minecraft Server\">Pixelmon Realms</a>,\n",
       " <a href=\"//minecraft-server-list.com/server/424827/\" title=\"PikaNetwork\"><img alt=\"PikaNetwork\" height=\"90\" src=\"//cdn.minecraft-server-list.com/serverlogo/424827.jpg\" width=\"680\"/></a>,\n",
       " <a href=\"//minecraft-server-list.com/server/424827/\" title=\"PikaNetwork Minecraft Server\">PikaNetwork</a>,\n",
       " <a href=\"//minecraft-server-list.com/server/330484/\" title=\"APPLECRAFT!\"><img alt=\"APPLECRAFT!\" height=\"90\" src=\"//cdn.minecraft-server-list.com/serverlogo/330484.jpg\" width=\"680\"/></a>,\n",
       " <a href=\"//minecraft-server-list.com/server/330484/\" title=\"APPLECRAFT! Minecraft Server\">APPLECRAFT!</a>,\n",
       " <a href=\"//minecraft-server-list.com/server/474693/\" title=\"Skyblocky\"><img alt=\"Skyblocky\" height=\"90\" src=\"//cdn.minecraft-server-list.com/serverlogo/474693.jpg\" width=\"680\"/></a>,\n",
       " <a href=\"//minecraft-server-list.com/server/474693/\" title=\"Skyblocky Minecraft Server\">Skyblocky</a>,\n",
       " <a href=\"//minecraft-server-list.com/server/477649/\" title=\"TulipSurvival\"><img alt=\"TulipSurvival\" height=\"90\" src=\"//cdn.minecraft-server-list.com/serverlogo/477649.jpg\" width=\"680\"/></a>,\n",
       " <a href=\"//minecraft-server-list.com/server/477649/\" title=\"TulipSurvival Minecraft Server\">TulipSurvival</a>,\n",
       " <a href=\"//minecraft-server-list.com/server/442330/\" title=\"MCPrison\"><img alt=\"MCPrison\" height=\"90\" src=\"//cdn.minecraft-server-list.com/serverlogo/442330.jpg\" width=\"680\"/></a>,\n",
       " <a href=\"//minecraft-server-list.com/server/442330/\" title=\"MCPrison Minecraft Server\">MCPrison</a>,\n",
       " <a href=\"//minecraft-server-list.com/server/471886/\" title=\"CubeCraft Games\"><img alt=\"CubeCraft Games\" height=\"90\" src=\"//cdn.minecraft-server-list.com/serverlogo/471886.jpg\" width=\"680\"/></a>,\n",
       " <a href=\"//minecraft-server-list.com/server/471886/\" title=\"CubeCraft Games Minecraft Server\">CubeCraft Games</a>,\n",
       " <a href=\"//minecraft-server-list.com/server/288369/\" title=\"JartexNetwork\"><img alt=\"JartexNetwork\" height=\"90\" src=\"//cdn.minecraft-server-list.com/serverlogo/288369.jpg\" width=\"680\"/></a>,\n",
       " <a href=\"//minecraft-server-list.com/server/288369/\" title=\"JartexNetwork Minecraft Server\">JartexNetwork</a>,\n",
       " <a href=\"//minecraft-server-list.com/server/260405/\" title=\"Skyblock\"><img alt=\"Skyblock\" height=\"90\" src=\"//cdn.minecraft-server-list.com/serverlogo/260405.jpg\" width=\"680\"/></a>,\n",
       " <a href=\"//minecraft-server-list.com/server/260405/\" title=\"Skyblock Minecraft Server\">Skyblock</a>,\n",
       " <a href=\"//minecraft-server-list.com/server/461166/\" title=\"One Block MC\"><img alt=\"One Block MC\" height=\"90\" src=\"//cdn.minecraft-server-list.com/serverlogo/461166.jpg\" width=\"680\"/></a>,\n",
       " <a href=\"//minecraft-server-list.com/server/461166/\" title=\"One Block MC Minecraft Server\">One Block MC</a>]"
      ]
     },
     "execution_count": 3,
     "metadata": {},
     "output_type": "execute_result"
    }
   ],
   "source": [
    "\n",
    "page_soup.select('a')"
   ]
  },
  {
   "cell_type": "code",
   "execution_count": null,
   "id": "984d612e-dc4a-4b09-95f2-35c3e915a957",
   "metadata": {},
   "outputs": [],
   "source": []
  }
 ],
 "metadata": {
  "kernelspec": {
   "display_name": "RPC (Python 3.8.6)",
   "language": "python",
   "name": "rpc_env"
  },
  "language_info": {
   "codemirror_mode": {
    "name": "ipython",
    "version": 3
   },
   "file_extension": ".py",
   "mimetype": "text/x-python",
   "name": "python",
   "nbconvert_exporter": "python",
   "pygments_lexer": "ipython3",
   "version": "3.8.6"
  }
 },
 "nbformat": 4,
 "nbformat_minor": 5
}
