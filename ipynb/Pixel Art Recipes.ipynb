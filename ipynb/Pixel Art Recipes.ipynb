{
 "cells": [
  {
   "cell_type": "code",
   "execution_count": 1,
   "id": "59bb40fa-0537-48d1-b5bc-6a8ee098201b",
   "metadata": {},
   "outputs": [
    {
     "name": "stdout",
     "output_type": "stream",
     "text": [
      "Pretty printing has been turned OFF\n"
     ]
    }
   ],
   "source": [
    "\n",
    "%pprint"
   ]
  },
  {
   "cell_type": "code",
   "execution_count": 2,
   "id": "69c2272f-eebb-4908-b11c-aff0f035003a",
   "metadata": {},
   "outputs": [
    {
     "name": "stdout",
     "output_type": "stream",
     "text": [
      "['par.average_dict', 'par.blocks_list', 'par.collate', 'par.color_distance_from', 'par.concrete_and_unglazed_terracotta_list', 'par.concrete_list', 'par.conjunctify_nouns', 'par.convert_minecraft_coords_to_gimp_coords', 'par.convert_minecraft_coords_to_rowcols', 'par.convert_rowcols_to_minecraft_coords', 'par.display_next_minimap', 'par.distance', 'par.dominant_dict', 'par.get_block_name', 'par.get_circle_html', 'par.get_circular_edge_set', 'par.get_column_markup', 'par.get_dictionaries', 'par.get_file_names_dataframe', 'par.get_filename', 'par.get_hex_str', 'par.get_image_html_by_section', 'par.get_it_markup', 'par.get_it_markup_by_groups', 'par.get_map_center', 'par.get_multiples', 'par.get_next_file_names_dataframe', 'par.get_next_recipe', 'par.get_row_markup', 'par.get_rowspan_markup', 'par.get_section_file_path', 'par.get_stack_collation', 'par.get_stack_summary', 'par.get_text_color', 'par.get_text_html_by_section', 'par.glass_and_concrete_and_terracotta_list', 'par.glass_and_concrete_and_unglazed_terracotta_list', 'par.glass_and_concrete_list', 'par.glass_and_terracotta_list', 'par.glass_list', 'par.group_list', 'par.horizontal_offset', 'par.partition', 'par.pixel_to_filename', 'par.rgb_to_hex', 'par.s', 'par.show_art_recipe', 'par.show_columns_in_circle', 'par.stained_glass_list', 'par.surf_to_next_circle_html', 'par.surf_to_next_minimap', 'par.textures_dir', 'par.unpowdered_and_unglazed_list', 'par.vertical_offset', 'par.weighted_average_dict', 'par.wool_list']\n"
     ]
    }
   ],
   "source": [
    "\n",
    "import sys\n",
    "sys.path.insert(1, '../py')\n",
    "import pixel_art_recipes\n",
    "\n",
    "par = pixel_art_recipes.PixelArtRecipies()\n",
    "print(['par.{}'.format(fn) for fn in dir(par) if not fn.startswith('_')])"
   ]
  },
  {
   "cell_type": "code",
   "execution_count": 5,
   "id": "d2dd8490-7989-44e9-bc3d-4e9b0163dd9c",
   "metadata": {},
   "outputs": [
    {
     "data": {
      "text/plain": [
       "['black_concrete.png', 'blue_concrete.png', 'brown_concrete.png', 'cyan_concrete.png', 'gray_concrete.png', 'green_concrete.png', 'light_blue_concrete.png', 'light_gray_concrete.png', 'lime_concrete.png', 'magenta_concrete.png', 'orange_concrete.png', 'pink_concrete.png', 'purple_concrete.png', 'red_concrete.png', 'white_concrete.png', 'yellow_concrete.png', 'black_terracotta.png', 'blue_terracotta.png', 'brown_terracotta.png', 'cyan_terracotta.png', 'gray_terracotta.png', 'green_terracotta.png', 'light_blue_terracotta.png', 'light_gray_terracotta.png', 'lime_terracotta.png', 'magenta_terracotta.png', 'orange_terracotta.png', 'pink_terracotta.png', 'purple_terracotta.png', 'red_terracotta.png', 'terracotta.png', 'white_terracotta.png', 'yellow_terracotta.png', 'black_wool.png', 'blue_wool.png', 'brown_wool.png', 'cyan_wool.png', 'gray_wool.png', 'green_wool.png', 'light_blue_wool.png', 'light_gray_wool.png', 'lime_wool.png', 'magenta_wool.png', 'orange_wool.png', 'pink_wool.png', 'purple_wool.png', 'red_wool.png', 'white_wool.png', 'yellow_wool.png']"
      ]
     },
     "execution_count": 5,
     "metadata": {},
     "output_type": "execute_result"
    }
   ],
   "source": [
    "\n"
   ]
  },
  {
   "cell_type": "code",
   "execution_count": 7,
   "id": "04ab6620-0e56-4b4c-b7c2-8fa98803b680",
   "metadata": {},
   "outputs": [
    {
     "name": "stdout",
     "output_type": "stream",
     "text": [
      "dark_prismarine.png gray_concrete.png\n",
      "prismarine.png light_blue_terracotta.png\n",
      "prismarine_bricks.png light_gray_wool.png\n"
     ]
    }
   ],
   "source": [
    "\n",
    "pris_blocks_list = [k for k, v in par.dominant_dict.items() if 'pris' in k.lower()]\n",
    "rgb_dict = {k: v for k, v in par.dominant_dict.items() if k in par.unpowdered_and_unglazed_list}\n",
    "f = lambda item: np.linalg.norm(np.array(item[1])-pixel)\n",
    "for block in pris_blocks_list:\n",
    "    pixel = par.dominant_dict[block]\n",
    "    file_name = sorted(rgb_dict.items(), key=f)[0][0]\n",
    "    print(block, file_name)"
   ]
  },
  {
   "cell_type": "code",
   "execution_count": 4,
   "id": "fe278a6f-a822-420f-a6fb-eb2e734c894e",
   "metadata": {},
   "outputs": [
    {
     "name": "stdout",
     "output_type": "stream",
     "text": [
      "black_glazed_terracotta.png red_concrete.png\n",
      "black_terracotta.png black_concrete_powder.png\n",
      "blue_glazed_terracotta.png gray_concrete.png\n",
      "blue_terracotta.png gray_concrete_powder.png\n",
      "brown_glazed_terracotta.png brown_concrete_powder.png\n",
      "brown_terracotta.png brown_concrete.png\n",
      "cyan_glazed_terracotta.png cyan_concrete.png\n",
      "cyan_terracotta.png gray_concrete_powder.png\n",
      "gray_glazed_terracotta.png gray_concrete.png\n",
      "gray_terracotta.png gray_concrete.png\n",
      "green_glazed_terracotta.png green_concrete.png\n",
      "green_terracotta.png green_concrete.png\n",
      "light_blue_glazed_terracotta.png light_blue_concrete_powder.png\n",
      "light_blue_terracotta.png light_gray_concrete.png\n",
      "light_gray_glazed_terracotta.png white_concrete.png\n",
      "light_gray_terracotta.png light_gray_concrete.png\n",
      "lime_glazed_terracotta.png lime_concrete_powder.png\n",
      "lime_terracotta.png green_concrete_powder.png\n",
      "magenta_glazed_terracotta.png magenta_concrete_powder.png\n",
      "magenta_terracotta.png light_gray_concrete.png\n",
      "orange_glazed_terracotta.png orange_concrete_powder.png\n",
      "orange_terracotta.png red_concrete_powder.png\n",
      "pink_glazed_terracotta.png white_concrete.png\n",
      "pink_terracotta.png red_concrete_powder.png\n",
      "purple_glazed_terracotta.png purple_concrete_powder.png\n",
      "purple_terracotta.png brown_concrete_powder.png\n",
      "red_glazed_terracotta.png red_concrete_powder.png\n",
      "red_terracotta.png red_concrete_powder.png\n",
      "terracotta.png brown_concrete_powder.png\n",
      "white_glazed_terracotta.png white_concrete_powder.png\n",
      "white_terracotta.png pink_concrete_powder.png\n",
      "yellow_glazed_terracotta.png yellow_concrete.png\n",
      "yellow_terracotta.png orange_concrete_powder.png\n"
     ]
    }
   ],
   "source": [
    "\n",
    "import numpy as np\n",
    "\n",
    "terra_blocks_list = [k for k, v in par.dominant_dict.items() if 'terra' in k.lower()]\n",
    "conc_blocks_list = [k for k, v in par.dominant_dict.items() if 'conc' in k.lower()]\n",
    "rgb_dict = {k: v for k, v in par.dominant_dict.items() if k in conc_blocks_list}\n",
    "f = lambda item: np.linalg.norm(np.array(item[1])-pixel)\n",
    "for block in terra_blocks_list:\n",
    "    pixel = par.dominant_dict[block]\n",
    "    file_name = sorted(rgb_dict.items(), key=f)[0][0]\n",
    "    print(block, file_name)"
   ]
  },
  {
   "cell_type": "code",
   "execution_count": 8,
   "id": "52996087-08fe-4f82-8549-019a18d69ba2",
   "metadata": {},
   "outputs": [
    {
     "name": "stdout",
     "output_type": "stream",
     "text": [
      "1.7320508075688772\n",
      "1.7320508075688772\n"
     ]
    }
   ],
   "source": [
    "\n",
    "from_color = (0, 0, 0)\n",
    "to_rgb_tuple = (1, 1, 1)\n",
    "color_distance = np.linalg.norm(np.array(from_color) - np.array(to_rgb_tuple))\n",
    "print(color_distance)\n",
    "color_distance = par.color_distance_from('black', to_rgb_tuple)\n",
    "print(color_distance)"
   ]
  },
  {
   "cell_type": "markdown",
   "id": "8cd480d9-6e75-4300-9018-bba2022554b7",
   "metadata": {},
   "source": [
    "\n",
    "----"
   ]
  },
  {
   "cell_type": "code",
   "execution_count": null,
   "id": "45261cb4-20b9-41b7-a175-5ec142878dad",
   "metadata": {},
   "outputs": [],
   "source": [
    "\n",
    "art_file_path = '../saves/png/baby_face_134x150.png'\n",
    "file_names_df = par.get_file_names_dataframe(art_file_path, rgb_dict=par.dominant_dict)\n",
    "par.show_art_recipe(art_file_path, rgb_dict=par.dominant_dict, blocks_list=None, block_names_df=file_names_df)"
   ]
  },
  {
   "cell_type": "code",
   "execution_count": null,
   "id": "2a50a961-1ddb-4c66-9322-556058efe516",
   "metadata": {},
   "outputs": [],
   "source": [
    "\n",
    "art_file_path = '../saves/png/japanese_maple_bonzai.png'\n",
    "blocks_list = ['acacia_log.png', 'acacia_log_top.png', 'acacia_planks.png', 'birch_log.png', 'birch_log_top.png', 'birch_planks.png',\n",
    "               'dark_oak_log.png', 'dark_oak_log_top.png', 'dark_oak_planks.png', 'jungle_log.png', 'jungle_log_top.png', 'jungle_planks.png',\n",
    "               'oak_log.png', 'oak_log_top.png', 'oak_planks.png', 'spruce_log.png', 'spruce_log_top.png', 'spruce_planks.png']\n",
    "blocks_list += [k for k, v in par.dominant_dict.items() if 'lea' in k.lower()]\n",
    "rgb_dict = {k: v for k, v in par.dominant_dict.items() if k in blocks_list}\n",
    "file_names_df = par.get_file_names_dataframe(art_file_path, rgb_dict=rgb_dict)\n",
    "par.show_art_recipe(art_file_path, rgb_dict=rgb_dict, blocks_list=blocks_list, block_names_df=file_names_df)"
   ]
  },
  {
   "cell_type": "markdown",
   "id": "39e527ee-ddd7-4dbf-b88e-439f2bdaf332",
   "metadata": {},
   "source": [
    "\n",
    "----"
   ]
  },
  {
   "cell_type": "code",
   "execution_count": null,
   "id": "3f22bf5a-b85e-44b0-9813-e63efdc031c6",
   "metadata": {},
   "outputs": [],
   "source": [
    "\n",
    "file_names_df.groupby('file_name').count().sort_values('row_number', ascending=False)"
   ]
  },
  {
   "cell_type": "code",
   "execution_count": null,
   "id": "b98c8e7b-d250-47cc-853b-627d84962013",
   "metadata": {},
   "outputs": [],
   "source": [
    "\n",
    "file_names_df.columns.tolist()"
   ]
  },
  {
   "cell_type": "code",
   "execution_count": null,
   "id": "1a9a83c1-e523-416d-9b5e-0dc6ee3707f3",
   "metadata": {},
   "outputs": [],
   "source": [
    "\n",
    "block_names_df.groupby('block_name').count().sort_values('row_number', ascending=False)"
   ]
  },
  {
   "cell_type": "code",
   "execution_count": null,
   "id": "40d2875e-8d46-44a4-8c08-da946499fef5",
   "metadata": {},
   "outputs": [],
   "source": [
    "\n",
    "block_names_df.columns.tolist()"
   ]
  },
  {
   "cell_type": "markdown",
   "id": "e4587b4f-fba0-44b1-b27d-98f1e25acb4c",
   "metadata": {},
   "source": [
    "\n",
    "----"
   ]
  },
  {
   "cell_type": "code",
   "execution_count": null,
   "id": "b3b0b178-b3dc-49ae-b250-cd4e20226110",
   "metadata": {},
   "outputs": [],
   "source": [
    "\n",
    "par.horizontal_offset = -504\n",
    "par.vertical_offset = 112"
   ]
  },
  {
   "cell_type": "code",
   "execution_count": null,
   "id": "3751cc1e-b7d7-4d6b-b094-f39fb88dbf8c",
   "metadata": {},
   "outputs": [],
   "source": [
    "\n",
    "par.display_next_minimap(x=-365, z=201, art_file_path=art_file_path, file_names_df=file_names_df)"
   ]
  },
  {
   "cell_type": "code",
   "execution_count": null,
   "id": "cae21697-81da-4b19-b3e2-d03108e35f6f",
   "metadata": {},
   "outputs": [],
   "source": [
    "\n",
    "par.display_next_minimap(x=-198, z=169, art_file_path=art_file_path, file_names_df=file_names_df)"
   ]
  },
  {
   "cell_type": "code",
   "execution_count": null,
   "id": "3bc2e9bd-ea0b-4706-8e0d-23a44614dc0d",
   "metadata": {},
   "outputs": [],
   "source": [
    "\n",
    "par.get_map_center()"
   ]
  },
  {
   "cell_type": "markdown",
   "id": "30678df1-517a-45c6-9c5c-e04468dc3815",
   "metadata": {},
   "source": [
    "\n",
    "I have an index with documents with a keyword column(?) and the visualization only shows a 1 for each week for each keyword instead of the total."
   ]
  },
  {
   "cell_type": "code",
   "execution_count": null,
   "id": "cd5680a0-a42b-47cb-8084-e3d7d9e0ffd0",
   "metadata": {},
   "outputs": [],
   "source": [
    "\n",
    "x = -395\n",
    "z = 307\n",
    "par.convert_minecraft_coords_to_rowcols(x, z)"
   ]
  },
  {
   "cell_type": "code",
   "execution_count": null,
   "id": "fcee4351-034d-49f7-a6be-432842448209",
   "metadata": {},
   "outputs": [],
   "source": [
    "\n",
    "x = -495\n",
    "z = 207\n",
    "par.convert_minecraft_coords_to_rowcols(x, z)"
   ]
  },
  {
   "cell_type": "code",
   "execution_count": null,
   "id": "67f668ca-e978-45e1-812d-fa6340fed48e",
   "metadata": {},
   "outputs": [],
   "source": [
    "\n",
    "x = -395\n",
    "z = 207\n",
    "par.convert_minecraft_coords_to_rowcols(x, z)"
   ]
  },
  {
   "cell_type": "code",
   "execution_count": null,
   "id": "ef983bcc-3bb6-4b18-9649-aa6aa4f21240",
   "metadata": {},
   "outputs": [],
   "source": [
    "\n",
    "x = -495\n",
    "z = 307\n",
    "par.convert_minecraft_coords_to_rowcols(x, z)"
   ]
  },
  {
   "cell_type": "code",
   "execution_count": null,
   "id": "59ff6ab8-216a-4234-825d-0f090462da6b",
   "metadata": {},
   "outputs": [],
   "source": [
    "\n",
    "{k: v for k, v in par.dominant_dict.items() if 'polished' in k}"
   ]
  },
  {
   "cell_type": "code",
   "execution_count": null,
   "id": "83fb9671-4f98-4a4f-8d35-fefede416fd1",
   "metadata": {},
   "outputs": [],
   "source": [
    "\n",
    "par.dominant_dict['polished_diorite.png']"
   ]
  },
  {
   "cell_type": "code",
   "execution_count": null,
   "id": "0e0dcf13-8e3e-4000-82d3-bb74747b3fdc",
   "metadata": {},
   "outputs": [],
   "source": [
    "\n",
    "x = -410\n",
    "z = 222\n",
    "par.convert_minecraft_coords_to_gimp_coords(x, z)"
   ]
  },
  {
   "cell_type": "code",
   "execution_count": null,
   "id": "4153797a-af3d-4244-8fc0-3af55096c790",
   "metadata": {},
   "outputs": [],
   "source": []
  }
 ],
 "metadata": {
  "kernelspec": {
   "display_name": "Python 3 (ipykernel)",
   "language": "python",
   "name": "python3"
  },
  "language_info": {
   "codemirror_mode": {
    "name": "ipython",
    "version": 3
   },
   "file_extension": ".py",
   "mimetype": "text/x-python",
   "name": "python",
   "nbconvert_exporter": "python",
   "pygments_lexer": "ipython3",
   "version": "3.9.7"
  }
 },
 "nbformat": 4,
 "nbformat_minor": 5
}
