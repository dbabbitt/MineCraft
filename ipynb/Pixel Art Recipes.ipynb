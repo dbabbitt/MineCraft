{
 "cells": [
  {
   "cell_type": "code",
   "execution_count": 1,
   "id": "59bb40fa-0537-48d1-b5bc-6a8ee098201b",
   "metadata": {},
   "outputs": [
    {
     "name": "stdout",
     "output_type": "stream",
     "text": [
      "Pretty printing has been turned OFF\n"
     ]
    }
   ],
   "source": [
    "\n",
    "%pprint"
   ]
  },
  {
   "cell_type": "code",
   "execution_count": 2,
   "id": "69c2272f-eebb-4908-b11c-aff0f035003a",
   "metadata": {},
   "outputs": [],
   "source": [
    "\n",
    "import sys\n",
    "sys.path.insert(1, '../py')\n",
    "import pixel_art_recipes\n",
    "par = pixel_art_recipes.PixelArtRecipies()"
   ]
  },
  {
   "cell_type": "markdown",
   "id": "8cd480d9-6e75-4300-9018-bba2022554b7",
   "metadata": {},
   "source": [
    "\n",
    "----"
   ]
  },
  {
   "cell_type": "raw",
   "id": "dfd090c7-4975-4a9d-95ec-4b26660d2e1f",
   "metadata": {},
   "source": [
    "\n",
    "block_names_df = par.get_next_recipe()"
   ]
  },
  {
   "cell_type": "markdown",
   "id": "e4587b4f-fba0-44b1-b27d-98f1e25acb4c",
   "metadata": {},
   "source": [
    "\n",
    "----"
   ]
  },
  {
   "cell_type": "code",
   "execution_count": 3,
   "id": "1e6c97b6-9266-45ba-ac1e-0d9d17aae97a",
   "metadata": {},
   "outputs": [],
   "source": [
    "\n",
    "art_file_path = '../saves/png/visual_construction101x101.png'\n",
    "file_names_df = par.get_next_file_names_dataframe(art_file_path)"
   ]
  },
  {
   "cell_type": "code",
   "execution_count": 15,
   "id": "3751cc1e-b7d7-4d6b-b094-f39fb88dbf8c",
   "metadata": {},
   "outputs": [
    {
     "data": {
      "text/html": [
       "<table style=\"border-collapse:collapse;\"><tr><td title=\"X:-442 Z:234\" style=\"background-color:#565b5b;text-align:center;\" width=\"10px\">Cyan Terracotta</td><td title=\"X:-441 Z:234\" style=\"background-color:#392a23;text-align:center;\" width=\"10px\">Gray Terracotta</td><td title=\"X:-440 Z:234\" style=\"background-color:#0f1015;text-align:center;\" width=\"10px\">Black Wool</td><td title=\"X:-439 Z:234\" style=\"background-color:#4d3424;text-align:center;\" width=\"10px\">Brown Terracotta</td><td title=\"X:-438 Z:234\" style=\"background-color:#613c20;text-align:center;\" width=\"10px\">Brown Concrete</td><td title=\"X:-437 Z:234\" style=\"background-color:#613c20;text-align:center;\" width=\"10px\">Brown Concrete</td><td title=\"X:-436 Z:234\" style=\"background-color:#613c20;text-align:center;\" width=\"10px\">Brown Concrete</td><td title=\"X:-435 Z:234\" style=\"background-color:#4d3424;text-align:center;\" width=\"10px\">Brown Terracotta</td><td title=\"X:-434 Z:234\" style=\"background-color:#4d3424;text-align:center;\" width=\"10px\">Brown Terracotta</td><td title=\"X:-433 Z:234\" style=\"background-color:#4d3424;text-align:center;\" width=\"10px\">Brown Terracotta</td><td title=\"X:-432 Z:234\" style=\"background-color:#965d43;text-align:center;\" width=\"10px\">Terracotta</td></tr><tr><td title=\"X:-442 Z:235\" style=\"background-color:#876b62;text-align:center;\" width=\"10px\">Light Gray Terracotta</td><td title=\"X:-441 Z:235\" style=\"background-color:#876b62;text-align:center;\" width=\"10px\">Light Gray Terracotta</td><td title=\"X:-440 Z:235\" style=\"background-color:#876b62;text-align:center;\" width=\"10px\">Light Gray Terracotta</td><td title=\"X:-439 Z:235\" style=\"background-color:#805130;text-align:center;\" width=\"10px\">Brown Wool</td><td title=\"X:-438 Z:235\" style=\"background-color:#251610;text-align:center;\" width=\"10px\">Black Terracotta</td><td title=\"X:-437 Z:235\" style=\"background-color:#4d3424;text-align:center;\" width=\"10px\">Brown Terracotta</td><td title=\"X:-436 Z:235\" style=\"background-color:#392a23;text-align:center;\" width=\"10px\">Gray Terracotta</td><td title=\"X:-435 Z:235\" style=\"background-color:#613c20;text-align:center;\" width=\"10px\">Brown Concrete</td><td title=\"X:-434 Z:235\" style=\"background-color:#613c20;text-align:center;\" width=\"10px\">Brown Concrete</td><td title=\"X:-433 Z:235\" style=\"background-color:#4d3424;text-align:center;\" width=\"10px\">Brown Terracotta</td><td title=\"X:-432 Z:235\" style=\"background-color:#4d3424;text-align:center;\" width=\"10px\">Brown Terracotta</td></tr><tr><td title=\"X:-442 Z:236\" style=\"background-color:#7d7d73;text-align:center;\" width=\"10px\">Light Gray Concrete</td><td title=\"X:-441 Z:236\" style=\"background-color:#9b9b94;text-align:center;\" width=\"10px\">Light Gray Wool</td><td title=\"X:-440 Z:236\" style=\"background-color:#7d7d73;text-align:center;\" width=\"10px\">Light Gray Concrete</td><td title=\"X:-439 Z:236\" style=\"background-color:#7d7d73;text-align:center;\" width=\"10px\">Light Gray Concrete</td><td title=\"X:-438 Z:236\" style=\"background-color:#876b62;text-align:center;\" width=\"10px\">Light Gray Terracotta</td><td title=\"X:-437 Z:236\" style=\"background-color:#4c4c4c;text-align:center;\" width=\"10px\">Gray Stained Glass</td><td title=\"X:-436 Z:236\" style=\"background-color:#4d3424;text-align:center;\" width=\"10px\">Brown Terracotta</td><td title=\"X:-435 Z:236\" style=\"background-color:#4d3424;text-align:center;\" width=\"10px\">Brown Terracotta</td><td title=\"X:-434 Z:236\" style=\"background-color:#4d3424;text-align:center;\" width=\"10px\">Brown Terracotta</td><td title=\"X:-433 Z:236\" style=\"background-color:#805130;text-align:center;\" width=\"10px\">Brown Wool</td><td title=\"X:-432 Z:236\" style=\"background-color:#805130;text-align:center;\" width=\"10px\">Brown Wool</td></tr><tr><td title=\"X:-442 Z:237\" style=\"background-color:#876b62;text-align:center;\" width=\"10px\">Light Gray Terracotta</td><td title=\"X:-441 Z:237\" style=\"background-color:#7d7d73;text-align:center;\" width=\"10px\">Light Gray Concrete</td><td title=\"X:-440 Z:237\" style=\"background-color:#7d7d73;text-align:center;\" width=\"10px\">Light Gray Concrete</td><td title=\"X:-439 Z:237\" style=\"background-color:#7d7d73;text-align:center;\" width=\"10px\">Light Gray Concrete</td><td title=\"X:-438 Z:237\" style=\"background-color:#9b9b94;text-align:center;\" width=\"10px\">Light Gray Wool</td><td title=\"X:-437 Z:237\" style=\"background-color:#876b62;text-align:center;\" width=\"10px\">Light Gray Terracotta</td><td title=\"X:-436 Z:237\" style=\"background-color:#876b62;text-align:center;\" width=\"10px\">Light Gray Terracotta</td><td title=\"X:-435 Z:237\" style=\"background-color:#565b5b;text-align:center;\" width=\"10px\">Cyan Terracotta</td><td title=\"X:-434 Z:237\" style=\"background-color:#191919;text-align:center;\" width=\"10px\">Black Stained Glass</td><td title=\"X:-433 Z:237\" style=\"background-color:#4d3424;text-align:center;\" width=\"10px\">Brown Terracotta</td><td title=\"X:-432 Z:237\" style=\"background-color:#4d3424;text-align:center;\" width=\"10px\">Brown Terracotta</td></tr><tr><td title=\"X:-442 Z:238\" style=\"background-color:#805130;text-align:center;\" width=\"10px\">Brown Wool</td><td title=\"X:-441 Z:238\" style=\"background-color:#876b62;text-align:center;\" width=\"10px\">Light Gray Terracotta</td><td title=\"X:-440 Z:238\" style=\"background-color:#876b62;text-align:center;\" width=\"10px\">Light Gray Terracotta</td><td title=\"X:-439 Z:238\" style=\"background-color:#876b62;text-align:center;\" width=\"10px\">Light Gray Terracotta</td><td title=\"X:-438 Z:238\" style=\"background-color:#b98322;text-align:center;\" width=\"10px\">Yellow Terracotta</td><td title=\"X:-437 Z:238\" style=\"background-color:#b98322;text-align:center;\" width=\"10px\">Yellow Terracotta</td><td title=\"X:-436 Z:238\" style=\"background-color:#b98322;text-align:center;\" width=\"10px\">Yellow Terracotta</td><td title=\"X:-435 Z:238\" style=\"background-color:#876b62;text-align:center;\" width=\"10px\">Light Gray Terracotta</td><td title=\"X:-434 Z:238\" style=\"background-color:#876b62;text-align:center;\" width=\"10px\">Light Gray Terracotta</td><td title=\"X:-433 Z:238\" style=\"background-color:#805130;text-align:center;\" width=\"10px\">Brown Wool</td><td title=\"X:-432 Z:238\" style=\"background-color:#191919;text-align:center;\" width=\"10px\">Black Stained Glass</td></tr><tr><td title=\"X:-442 Z:239\" style=\"background-color:#4b5229;text-align:center;\" width=\"10px\">Green Terracotta</td><td title=\"X:-441 Z:239\" style=\"background-color:#805130;text-align:center;\" width=\"10px\">Brown Wool</td><td title=\"X:-440 Z:239\" style=\"background-color:#9b9b94;text-align:center;\" width=\"10px\">Light Gray Wool</td><td title=\"X:-439 Z:239\" style=\"background-color:#7d7d73;text-align:center;\" width=\"10px\">Light Gray Concrete</td><td title=\"X:-438 Z:239\" style=\"background-color:#9b9b94;text-align:center;\" width=\"10px\">Light Gray Wool</td><td title=\"X:-437 Z:239\" style=\"background-color:#805130;text-align:center;border:1px solid white;\" width=\"10px\">Brown Wool</td><td title=\"X:-436 Z:239\" style=\"background-color:#9b9b94;text-align:center;\" width=\"10px\">Light Gray Wool</td><td title=\"X:-435 Z:239\" style=\"background-color:#876b62;text-align:center;\" width=\"10px\">Light Gray Terracotta</td><td title=\"X:-434 Z:239\" style=\"background-color:#876b62;text-align:center;\" width=\"10px\">Light Gray Terracotta</td><td title=\"X:-433 Z:239\" style=\"background-color:#876b62;text-align:center;\" width=\"10px\">Light Gray Terracotta</td><td title=\"X:-432 Z:239\" style=\"background-color:#876b62;text-align:center;\" width=\"10px\">Light Gray Terracotta</td></tr><tr><td title=\"X:-442 Z:240\" style=\"background-color:#805130;text-align:center;\" width=\"10px\">Brown Wool</td><td title=\"X:-441 Z:240\" style=\"background-color:#805130;text-align:center;\" width=\"10px\">Brown Wool</td><td title=\"X:-440 Z:240\" style=\"background-color:#4b5229;text-align:center;\" width=\"10px\">Green Terracotta</td><td title=\"X:-439 Z:240\" style=\"background-color:#392a23;text-align:center;\" width=\"10px\">Gray Terracotta</td><td title=\"X:-438 Z:240\" style=\"background-color:#9b9b94;text-align:center;\" width=\"10px\">Light Gray Wool</td><td title=\"X:-437 Z:240\" style=\"background-color:#876b62;text-align:center;\" width=\"10px\">Light Gray Terracotta</td><td title=\"X:-436 Z:240\" style=\"background-color:#7d7d73;text-align:center;\" width=\"10px\">Light Gray Concrete</td><td title=\"X:-435 Z:240\" style=\"background-color:#805130;text-align:center;\" width=\"10px\">Brown Wool</td><td title=\"X:-434 Z:240\" style=\"background-color:#805130;text-align:center;\" width=\"10px\">Brown Wool</td><td title=\"X:-433 Z:240\" style=\"background-color:#677534;text-align:center;\" width=\"10px\">Lime Terracotta</td><td title=\"X:-432 Z:240\" style=\"background-color:#965d43;text-align:center;\" width=\"10px\">Terracotta</td></tr><tr><td title=\"X:-442 Z:241\" style=\"background-color:#805130;text-align:center;\" width=\"10px\">Brown Wool</td><td title=\"X:-441 Z:241\" style=\"background-color:#613c20;text-align:center;\" width=\"10px\">Brown Concrete</td><td title=\"X:-440 Z:241\" style=\"background-color:#4d3424;text-align:center;\" width=\"10px\">Brown Terracotta</td><td title=\"X:-439 Z:241\" style=\"background-color:#4d3424;text-align:center;\" width=\"10px\">Brown Terracotta</td><td title=\"X:-438 Z:241\" style=\"background-color:#4c4c4c;text-align:center;\" width=\"10px\">Gray Stained Glass</td><td title=\"X:-437 Z:241\" style=\"background-color:#4d3424;text-align:center;\" width=\"10px\">Brown Terracotta</td><td title=\"X:-436 Z:241\" style=\"background-color:#9b9b94;text-align:center;\" width=\"10px\">Light Gray Wool</td><td title=\"X:-435 Z:241\" style=\"background-color:#7d7d73;text-align:center;\" width=\"10px\">Light Gray Concrete</td><td title=\"X:-434 Z:241\" style=\"background-color:#876b62;text-align:center;\" width=\"10px\">Light Gray Terracotta</td><td title=\"X:-433 Z:241\" style=\"background-color:#7d7d73;text-align:center;\" width=\"10px\">Light Gray Concrete</td><td title=\"X:-432 Z:241\" style=\"background-color:#7d7d73;text-align:center;\" width=\"10px\">Light Gray Concrete</td></tr><tr><td title=\"X:-442 Z:242\" style=\"background-color:#805130;text-align:center;\" width=\"10px\">Brown Wool</td><td title=\"X:-441 Z:242\" style=\"background-color:#4d3424;text-align:center;\" width=\"10px\">Brown Terracotta</td><td title=\"X:-440 Z:242\" style=\"background-color:#4b5229;text-align:center;\" width=\"10px\">Green Terracotta</td><td title=\"X:-439 Z:242\" style=\"background-color:#4b5229;text-align:center;\" width=\"10px\">Green Terracotta</td><td title=\"X:-438 Z:242\" style=\"background-color:#4b5229;text-align:center;\" width=\"10px\">Green Terracotta</td><td title=\"X:-437 Z:242\" style=\"background-color:#613c20;text-align:center;\" width=\"10px\">Brown Concrete</td><td title=\"X:-436 Z:242\" style=\"background-color:#805130;text-align:center;\" width=\"10px\">Brown Wool</td><td title=\"X:-435 Z:242\" style=\"background-color:#392a23;text-align:center;\" width=\"10px\">Gray Terracotta</td><td title=\"X:-434 Z:242\" style=\"background-color:#251610;text-align:center;\" width=\"10px\">Black Terracotta</td><td title=\"X:-433 Z:242\" style=\"background-color:#251610;text-align:center;\" width=\"10px\">Black Terracotta</td><td title=\"X:-432 Z:242\" style=\"background-color:#392a23;text-align:center;\" width=\"10px\">Gray Terracotta</td></tr><tr><td title=\"X:-442 Z:243\" style=\"background-color:#805130;text-align:center;\" width=\"10px\">Brown Wool</td><td title=\"X:-441 Z:243\" style=\"background-color:#4d3424;text-align:center;\" width=\"10px\">Brown Terracotta</td><td title=\"X:-440 Z:243\" style=\"background-color:#4b5229;text-align:center;\" width=\"10px\">Green Terracotta</td><td title=\"X:-439 Z:243\" style=\"background-color:#464d50;text-align:center;\" width=\"10px\">Gray Wool</td><td title=\"X:-438 Z:243\" style=\"background-color:#4b5229;text-align:center;\" width=\"10px\">Green Terracotta</td><td title=\"X:-437 Z:243\" style=\"background-color:#613c20;text-align:center;\" width=\"10px\">Brown Concrete</td><td title=\"X:-436 Z:243\" style=\"background-color:#4d3424;text-align:center;\" width=\"10px\">Brown Terracotta</td><td title=\"X:-435 Z:243\" style=\"background-color:#392a23;text-align:center;\" width=\"10px\">Gray Terracotta</td><td title=\"X:-434 Z:243\" style=\"background-color:#392a23;text-align:center;\" width=\"10px\">Gray Terracotta</td><td title=\"X:-433 Z:243\" style=\"background-color:#392a23;text-align:center;\" width=\"10px\">Gray Terracotta</td><td title=\"X:-432 Z:243\" style=\"background-color:#805130;text-align:center;\" width=\"10px\">Brown Wool</td></tr><tr><td title=\"X:-442 Z:244\" style=\"background-color:#805130;text-align:center;\" width=\"10px\">Brown Wool</td><td title=\"X:-441 Z:244\" style=\"background-color:#805130;text-align:center;\" width=\"10px\">Brown Wool</td><td title=\"X:-440 Z:244\" style=\"background-color:#464d50;text-align:center;\" width=\"10px\">Gray Wool</td><td title=\"X:-439 Z:244\" style=\"background-color:#565b5b;text-align:center;\" width=\"10px\">Cyan Terracotta</td><td title=\"X:-438 Z:244\" style=\"background-color:#613c20;text-align:center;\" width=\"10px\">Brown Concrete</td><td title=\"X:-437 Z:244\" style=\"background-color:#4d3424;text-align:center;\" width=\"10px\">Brown Terracotta</td><td title=\"X:-436 Z:244\" style=\"background-color:#251610;text-align:center;\" width=\"10px\">Black Terracotta</td><td title=\"X:-435 Z:244\" style=\"background-color:#613c20;text-align:center;\" width=\"10px\">Brown Concrete</td><td title=\"X:-434 Z:244\" style=\"background-color:#4d3424;text-align:center;\" width=\"10px\">Brown Terracotta</td><td title=\"X:-433 Z:244\" style=\"background-color:#613c20;text-align:center;\" width=\"10px\">Brown Concrete</td><td title=\"X:-432 Z:244\" style=\"background-color:#4b5229;text-align:center;\" width=\"10px\">Green Terracotta</td></tr></table><hr />"
      ],
      "text/plain": [
       "<IPython.core.display.HTML object>"
      ]
     },
     "metadata": {},
     "output_type": "display_data"
    }
   ],
   "source": [
    "\n",
    "par.display_next_minimap(x=-437, z=239, art_file_path=art_file_path, file_names_df=file_names_df)"
   ]
  },
  {
   "cell_type": "raw",
   "id": "4db8efe8-550e-4f7e-8fab-6617777981fe",
   "metadata": {},
   "source": [
    "\n",
    "par.get_map_center()"
   ]
  },
  {
   "cell_type": "markdown",
   "id": "30678df1-517a-45c6-9c5c-e04468dc3815",
   "metadata": {},
   "source": [
    "\n",
    "I have an index with documents with a keyword column(?) and the visualization only shows a 1 for each week for each keyword instead of the total."
   ]
  },
  {
   "cell_type": "code",
   "execution_count": 5,
   "id": "cd5680a0-a42b-47cb-8084-e3d7d9e0ffd0",
   "metadata": {},
   "outputs": [
    {
     "data": {
      "text/plain": [
       "(100, 100)"
      ]
     },
     "execution_count": 5,
     "metadata": {},
     "output_type": "execute_result"
    }
   ],
   "source": [
    "\n",
    "x = -395\n",
    "z = 307\n",
    "par.convert_minecraft_coords_to_rowcols(x, z)"
   ]
  },
  {
   "cell_type": "code",
   "execution_count": 6,
   "id": "fcee4351-034d-49f7-a6be-432842448209",
   "metadata": {},
   "outputs": [
    {
     "data": {
      "text/plain": [
       "(0, 0)"
      ]
     },
     "execution_count": 6,
     "metadata": {},
     "output_type": "execute_result"
    }
   ],
   "source": [
    "\n",
    "x = -495\n",
    "z = 207\n",
    "par.convert_minecraft_coords_to_rowcols(x, z)"
   ]
  },
  {
   "cell_type": "code",
   "execution_count": 7,
   "id": "67f668ca-e978-45e1-812d-fa6340fed48e",
   "metadata": {},
   "outputs": [
    {
     "data": {
      "text/plain": [
       "(0, 100)"
      ]
     },
     "execution_count": 7,
     "metadata": {},
     "output_type": "execute_result"
    }
   ],
   "source": [
    "\n",
    "x = -395\n",
    "z = 207\n",
    "par.convert_minecraft_coords_to_rowcols(x, z)"
   ]
  },
  {
   "cell_type": "code",
   "execution_count": 8,
   "id": "ef983bcc-3bb6-4b18-9649-aa6aa4f21240",
   "metadata": {},
   "outputs": [
    {
     "data": {
      "text/plain": [
       "(100, 0)"
      ]
     },
     "execution_count": 8,
     "metadata": {},
     "output_type": "execute_result"
    }
   ],
   "source": [
    "\n",
    "x = -495\n",
    "z = 307\n",
    "par.convert_minecraft_coords_to_rowcols(x, z)"
   ]
  },
  {
   "cell_type": "code",
   "execution_count": 9,
   "id": "59ff6ab8-216a-4234-825d-0f090462da6b",
   "metadata": {},
   "outputs": [
    {
     "data": {
      "text/plain": [
       "{'chiseled_polished_blackstone.png': (78.0, 75.0, 84.0), 'cracked_polished_blackstone_bricks.png': (36.727272, 27.18182, 29.704546), 'polished_andesite.png': (129.97122, 132.3741, 132.17986), 'polished_basalt_side.png': (116.0, 116.0, 116.0), 'polished_basalt_top.png': (116.0, 116.0, 116.0), 'polished_blackstone.png': (60.0, 57.0, 71.0), 'polished_blackstone_bricks.png': (37.09302, 28.27907, 29.430233), 'polished_deepslate.png': (88.0, 88.0, 88.0), 'polished_diorite.png': (193.85046, 194.85046, 196.48598), 'polished_granite.png': (159.0, 106.99999, 87.99999)}"
      ]
     },
     "execution_count": 9,
     "metadata": {},
     "output_type": "execute_result"
    }
   ],
   "source": [
    "\n",
    "{k: v for k, v in par.dominant_dict.items() if 'polished' in k}"
   ]
  },
  {
   "cell_type": "code",
   "execution_count": 10,
   "id": "83fb9671-4f98-4a4f-8d35-fefede416fd1",
   "metadata": {},
   "outputs": [
    {
     "data": {
      "text/plain": [
       "(193.85046, 194.85046, 196.48598)"
      ]
     },
     "execution_count": 10,
     "metadata": {},
     "output_type": "execute_result"
    }
   ],
   "source": [
    "\n",
    "par.dominant_dict['polished_diorite.png']"
   ]
  },
  {
   "cell_type": "code",
   "execution_count": 14,
   "id": "0e0dcf13-8e3e-4000-82d3-bb74747b3fdc",
   "metadata": {},
   "outputs": [
    {
     "data": {
      "text/plain": [
       "(85, 15)"
      ]
     },
     "execution_count": 14,
     "metadata": {},
     "output_type": "execute_result"
    }
   ],
   "source": [
    "\n",
    "x = -410\n",
    "z = 222\n",
    "par.convert_minecraft_coords_to_gimp_coords(x, z)"
   ]
  },
  {
   "cell_type": "code",
   "execution_count": null,
   "id": "4153797a-af3d-4244-8fc0-3af55096c790",
   "metadata": {},
   "outputs": [],
   "source": []
  }
 ],
 "metadata": {
  "kernelspec": {
   "display_name": "Python 3 (ipykernel)",
   "language": "python",
   "name": "python3"
  },
  "language_info": {
   "codemirror_mode": {
    "name": "ipython",
    "version": 3
   },
   "file_extension": ".py",
   "mimetype": "text/x-python",
   "name": "python",
   "nbconvert_exporter": "python",
   "pygments_lexer": "ipython3",
   "version": "3.9.7"
  }
 },
 "nbformat": 4,
 "nbformat_minor": 5
}
